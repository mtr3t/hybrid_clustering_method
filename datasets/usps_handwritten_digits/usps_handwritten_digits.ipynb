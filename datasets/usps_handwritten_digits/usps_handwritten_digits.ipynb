{
 "cells": [
  {
   "cell_type": "code",
   "execution_count": 1,
   "id": "a6b45517",
   "metadata": {},
   "outputs": [],
   "source": [
    "import numpy as np\n",
    "import scipy.io as spio\n",
    "import matplotlib.pyplot as plt\n",
    "%matplotlib inline"
   ]
  },
  {
   "cell_type": "code",
   "execution_count": 2,
   "id": "0eae7ec5",
   "metadata": {},
   "outputs": [
    {
     "data": {
      "text/plain": [
       "[('data', (256, 1100, 10), 'uint8')]"
      ]
     },
     "execution_count": 2,
     "metadata": {},
     "output_type": "execute_result"
    }
   ],
   "source": [
    "spio.whosmat('usps_all.mat')"
   ]
  },
  {
   "cell_type": "code",
   "execution_count": 3,
   "id": "4784ed8a",
   "metadata": {},
   "outputs": [],
   "source": [
    "usps = spio.loadmat('usps_all.mat')"
   ]
  },
  {
   "cell_type": "code",
   "execution_count": 4,
   "id": "ffda349d",
   "metadata": {},
   "outputs": [],
   "source": [
    "images = usps['data']"
   ]
  },
  {
   "cell_type": "code",
   "execution_count": 5,
   "id": "31b673bf",
   "metadata": {},
   "outputs": [
    {
     "data": {
      "text/plain": [
       "256"
      ]
     },
     "execution_count": 5,
     "metadata": {},
     "output_type": "execute_result"
    }
   ],
   "source": [
    "len(images)"
   ]
  },
  {
   "cell_type": "code",
   "execution_count": 6,
   "id": "9899b33b",
   "metadata": {},
   "outputs": [
    {
     "data": {
      "text/plain": [
       "256"
      ]
     },
     "execution_count": 6,
     "metadata": {},
     "output_type": "execute_result"
    }
   ],
   "source": [
    "16*16"
   ]
  },
  {
   "cell_type": "code",
   "execution_count": 7,
   "id": "3f7f56c2",
   "metadata": {},
   "outputs": [
    {
     "data": {
      "text/plain": [
       "1100"
      ]
     },
     "execution_count": 7,
     "metadata": {},
     "output_type": "execute_result"
    }
   ],
   "source": [
    "len(images[0])"
   ]
  },
  {
   "cell_type": "code",
   "execution_count": 8,
   "id": "fbfe74ea",
   "metadata": {},
   "outputs": [
    {
     "data": {
      "text/plain": [
       "10"
      ]
     },
     "execution_count": 8,
     "metadata": {},
     "output_type": "execute_result"
    }
   ],
   "source": [
    "len(images[0][0])"
   ]
  },
  {
   "cell_type": "code",
   "execution_count": 9,
   "id": "21fdf424",
   "metadata": {},
   "outputs": [
    {
     "name": "stdout",
     "output_type": "stream",
     "text": [
      "[[ 0  0  0 ...  0  0  0]\n",
      " [ 0  0  0 ...  0  0  0]\n",
      " [ 0  0  0 ...  0  0  0]\n",
      " ...\n",
      " [ 0  0  0 ...  0  0  0]\n",
      " [ 0  0  0 ...  0  0 78]\n",
      " [ 0  0  0 ...  0  0  0]]\n"
     ]
    }
   ],
   "source": [
    "print(images[0])"
   ]
  },
  {
   "cell_type": "code",
   "execution_count": 10,
   "id": "4d7bf6fb",
   "metadata": {},
   "outputs": [
    {
     "data": {
      "image/png": "[encoded data removed]",
      "text/plain": [
       "<Figure size 640x480 with 1 Axes>"
      ]
     },
     "metadata": {},
     "output_type": "display_data"
    }
   ],
   "source": [
    "test = np.array(images[0])\n",
    "test.resize(16,16)\n",
    "plt.imshow(test)\n",
    "plt.show()"
   ]
  },
  {
   "cell_type": "code",
   "execution_count": 11,
   "id": "d5c5b7f6",
   "metadata": {},
   "outputs": [],
   "source": [
    "import h5py"
   ]
  },
  {
   "cell_type": "code",
   "execution_count": 12,
   "id": "eddb51d3",
   "metadata": {},
   "outputs": [],
   "source": [
    "with h5py.File('usps.h5', 'r') as hf:\n",
    "    train = hf.get('train')\n",
    "    X_tr = train.get('data')[:]\n",
    "    y_tr = train.get('target')[:]\n",
    "    test = hf.get('test')\n",
    "    X_te = test.get('data')[:]\n",
    "    y_te = test.get('target')[:]"
   ]
  },
  {
   "cell_type": "code",
   "execution_count": 13,
   "id": "477a7b9b",
   "metadata": {},
   "outputs": [
    {
     "data": {
      "text/plain": [
       "7291"
      ]
     },
     "execution_count": 13,
     "metadata": {},
     "output_type": "execute_result"
    }
   ],
   "source": [
    "len(X_tr)"
   ]
  },
  {
   "cell_type": "code",
   "execution_count": 14,
   "id": "fd383231",
   "metadata": {},
   "outputs": [
    {
     "data": {
      "text/plain": [
       "7291"
      ]
     },
     "execution_count": 14,
     "metadata": {},
     "output_type": "execute_result"
    }
   ],
   "source": [
    "len(y_tr)"
   ]
  },
  {
   "cell_type": "code",
   "execution_count": 15,
   "id": "9c089ae9",
   "metadata": {},
   "outputs": [
    {
     "data": {
      "text/plain": [
       "array([0.        , 0.        , 0.        , 0.        , 0.        ,\n",
       "       0.        , 0.        , 0.18450001, 0.931     , 0.4165    ,\n",
       "       0.        , 0.        , 0.        , 0.        , 0.        ,\n",
       "       0.        , 0.        , 0.        , 0.        , 0.        ,\n",
       "       0.        , 0.        , 0.00400001, 0.64849997, 1.        ,\n",
       "       0.6535    , 0.        , 0.        , 0.        , 0.        ,\n",
       "       0.        , 0.        , 0.        , 0.        , 0.        ,\n",
       "       0.        , 0.        , 0.        , 0.29500002, 1.        ,\n",
       "       0.99300003, 0.2175    , 0.        , 0.        , 0.        ,\n",
       "       0.        , 0.        , 0.        , 0.        , 0.        ,\n",
       "       0.        , 0.        , 0.        , 0.15849999, 0.9125    ,\n",
       "       1.        , 0.781     , 0.        , 0.        , 0.        ,\n",
       "       0.        , 0.        , 0.        , 0.        , 0.        ,\n",
       "       0.        , 0.        , 0.        , 0.03099999, 0.77      ,\n",
       "       1.        , 0.889     , 0.14250001, 0.        , 0.        ,\n",
       "       0.        , 0.        , 0.        , 0.        , 0.        ,\n",
       "       0.        , 0.        , 0.        , 0.        , 0.55      ,\n",
       "       1.        , 0.96099997, 0.2805    , 0.        , 0.        ,\n",
       "       0.        , 0.        , 0.        , 0.        , 0.        ,\n",
       "       0.        , 0.        , 0.        , 0.        , 0.37150002,\n",
       "       0.975     , 1.        , 0.419     , 0.        , 0.        ,\n",
       "       0.        , 0.00650001, 0.143     , 0.08399999, 0.        ,\n",
       "       0.        , 0.        , 0.        , 0.        , 0.1015    ,\n",
       "       0.95449996, 1.        , 0.65      , 0.01949999, 0.        ,\n",
       "       0.        , 0.225     , 0.7425    , 0.998     , 0.9335    ,\n",
       "       0.546     , 0.        , 0.        , 0.        , 0.        ,\n",
       "       0.639     , 1.        , 0.9385    , 0.088     , 0.        ,\n",
       "       0.04750001, 0.5725    , 0.9885    , 1.        , 1.        ,\n",
       "       1.        , 0.995     , 0.1275    , 0.        , 0.        ,\n",
       "       0.02500001, 0.9235    , 1.        , 0.6635    , 0.        ,\n",
       "       0.        , 0.6775    , 1.        , 0.8275    , 0.44550002,\n",
       "       0.4075    , 1.        , 0.99399996, 0.1385    , 0.        ,\n",
       "       0.        , 0.185     , 1.        , 1.        , 0.534     ,\n",
       "       0.03749999, 0.5565    , 0.98      , 0.654     , 0.058     ,\n",
       "       0.        , 0.4625    , 1.        , 0.8205    , 0.0025    ,\n",
       "       0.        , 0.        , 0.1615    , 1.        , 1.        ,\n",
       "       0.8765    , 0.6705    , 1.        , 0.8535    , 0.02900001,\n",
       "       0.        , 0.        , 0.77250004, 1.        , 0.5135    ,\n",
       "       0.        , 0.        , 0.        , 0.0485    , 0.896     ,\n",
       "       1.        , 1.        , 1.        , 1.        , 0.768     ,\n",
       "       0.592     , 0.906     , 0.9185    , 0.98899996, 0.93200004,\n",
       "       0.185     , 0.        , 0.        , 0.        , 0.        ,\n",
       "       0.274     , 0.91400003, 1.        , 1.        , 1.        ,\n",
       "       1.        , 1.        , 1.        , 1.        , 1.        ,\n",
       "       0.5675    , 0.        , 0.        , 0.        , 0.        ,\n",
       "       0.        , 0.        , 0.25849998, 0.9065    , 1.        ,\n",
       "       1.        , 1.        , 1.        , 1.        , 1.        ,\n",
       "       0.6095    , 0.02849999, 0.        , 0.        , 0.        ,\n",
       "       0.        , 0.        , 0.        , 0.        , 0.01300001,\n",
       "       0.2855    , 0.652     , 0.9115    , 1.        , 0.741     ,\n",
       "       0.263     , 0.0045    , 0.        , 0.        , 0.        ,\n",
       "       0.        ], dtype=float32)"
      ]
     },
     "execution_count": 15,
     "metadata": {},
     "output_type": "execute_result"
    }
   ],
   "source": [
    "X_tr[0]"
   ]
  },
  {
   "cell_type": "code",
   "execution_count": 16,
   "id": "44db448b",
   "metadata": {},
   "outputs": [
    {
     "data": {
      "image/png": "[encoded data removed]",
      "text/plain": [
       "<Figure size 640x480 with 1 Axes>"
      ]
     },
     "metadata": {},
     "output_type": "display_data"
    }
   ],
   "source": [
    "test = X_tr[0]\n",
    "test.resize(16,16)\n",
    "plt.imshow(test)\n",
    "plt.show()"
   ]
  },
  {
   "cell_type": "code",
   "execution_count": 17,
   "id": "723ae63c",
   "metadata": {},
   "outputs": [
    {
     "data": {
      "text/plain": [
       "6"
      ]
     },
     "execution_count": 17,
     "metadata": {},
     "output_type": "execute_result"
    }
   ],
   "source": [
    "y_tr[0]"
   ]
  },
  {
   "cell_type": "code",
   "execution_count": 18,
   "id": "51323ed9",
   "metadata": {
    "scrolled": false
   },
   "outputs": [
    {
     "data": {
      "image/png": "[encoded data removed]",
      "text/plain": [
       "<Figure size 640x480 with 1 Axes>"
      ]
     },
     "metadata": {},
     "output_type": "display_data"
    },
    {
     "data": {
      "image/png": "[encoded data removed]",
      "text/plain": [
       "<Figure size 640x480 with 1 Axes>"
      ]
     },
     "metadata": {},
     "output_type": "display_data"
    },
    {
     "data": {
      "image/png": "[encoded data removed]",
      "text/plain": [
       "<Figure size 640x480 with 1 Axes>"
      ]
     },
     "metadata": {},
     "output_type": "display_data"
    },
    {
     "data": {
      "image/png": "[encoded data removed]",
      "text/plain": [
       "<Figure size 640x480 with 1 Axes>"
      ]
     },
     "metadata": {},
     "output_type": "display_data"
    },
    {
     "data": {
      "image/png": "[encoded data removed]",
      "text/plain": [
       "<Figure size 640x480 with 1 Axes>"
      ]
     },
     "metadata": {},
     "output_type": "display_data"
    },
    {
     "data": {
      "image/png": "[encoded data removed]",
      "text/plain": [
       "<Figure size 640x480 with 1 Axes>"
      ]
     },
     "metadata": {},
     "output_type": "display_data"
    },
    {
     "data": {
      "image/png": "[encoded data removed]",
      "text/plain": [
       "<Figure size 640x480 with 1 Axes>"
      ]
     },
     "metadata": {},
     "output_type": "display_data"
    },
    {
     "data": {
      "image/png": "[encoded data removed]",
      "text/plain": [
       "<Figure size 640x480 with 1 Axes>"
      ]
     },
     "metadata": {},
     "output_type": "display_data"
    },
    {
     "data": {
      "image/png": "[encoded data removed]",
      "text/plain": [
       "<Figure size 640x480 with 1 Axes>"
      ]
     },
     "metadata": {},
     "output_type": "display_data"
    },
    {
     "data": {
      "image/png": "[encoded data removed]",
      "text/plain": [
       "<Figure size 640x480 with 1 Axes>"
      ]
     },
     "metadata": {},
     "output_type": "display_data"
    }
   ],
   "source": [
    "for i in range(10):\n",
    "    test = X_tr[i]\n",
    "    test.resize(16,16)\n",
    "    plt.imshow(test)\n",
    "    plt.show()"
   ]
  },
  {
   "cell_type": "code",
   "execution_count": 19,
   "id": "34067fe3",
   "metadata": {},
   "outputs": [
    {
     "name": "stdout",
     "output_type": "stream",
     "text": [
      "6\n",
      "5\n",
      "4\n",
      "7\n",
      "3\n",
      "6\n",
      "3\n",
      "1\n",
      "0\n",
      "1\n"
     ]
    }
   ],
   "source": [
    "for i in range(10):\n",
    "    print(y_tr[i])"
   ]
  },
  {
   "cell_type": "code",
   "execution_count": 20,
   "id": "4b82fd93",
   "metadata": {},
   "outputs": [],
   "source": [
    "f = open('01_usps.ds', 'w')\n",
    "for i in range(len(X_tr)):\n",
    "    f.write(str(X_tr[i]).strip('[]').replace('\\n',''))\n",
    "    f.write('\\n')\n",
    "f.close()"
   ]
  },
  {
   "cell_type": "code",
   "execution_count": 21,
   "id": "77b5ba59",
   "metadata": {},
   "outputs": [],
   "source": [
    "f = open('01_usps_ground_truth.ds', 'w')\n",
    "for i in range(len(y_tr)):\n",
    "    f.write(str(y_tr[i]))\n",
    "    f.write('\\n')\n",
    "f.close()"
   ]
  },
  {
   "cell_type": "code",
   "execution_count": 22,
   "id": "c48e6191",
   "metadata": {},
   "outputs": [
    {
     "data": {
      "text/plain": [
       "array([0.        , 0.        , 0.        , 0.        , 0.        ,\n",
       "       0.        , 0.        , 0.18450001, 0.931     , 0.4165    ,\n",
       "       0.        , 0.        , 0.        , 0.        , 0.        ,\n",
       "       0.        , 0.        , 0.        , 0.        , 0.        ,\n",
       "       0.        , 0.        , 0.00400001, 0.64849997, 1.        ,\n",
       "       0.6535    , 0.        , 0.        , 0.        , 0.        ,\n",
       "       0.        , 0.        , 0.        , 0.        , 0.        ,\n",
       "       0.        , 0.        , 0.        , 0.29500002, 1.        ,\n",
       "       0.99300003, 0.2175    , 0.        , 0.        , 0.        ,\n",
       "       0.        , 0.        , 0.        , 0.        , 0.        ,\n",
       "       0.        , 0.        , 0.        , 0.15849999, 0.9125    ,\n",
       "       1.        , 0.781     , 0.        , 0.        , 0.        ,\n",
       "       0.        , 0.        , 0.        , 0.        , 0.        ,\n",
       "       0.        , 0.        , 0.        , 0.03099999, 0.77      ,\n",
       "       1.        , 0.889     , 0.14250001, 0.        , 0.        ,\n",
       "       0.        , 0.        , 0.        , 0.        , 0.        ,\n",
       "       0.        , 0.        , 0.        , 0.        , 0.55      ,\n",
       "       1.        , 0.96099997, 0.2805    , 0.        , 0.        ,\n",
       "       0.        , 0.        , 0.        , 0.        , 0.        ,\n",
       "       0.        , 0.        , 0.        , 0.        , 0.37150002,\n",
       "       0.975     , 1.        , 0.419     , 0.        , 0.        ,\n",
       "       0.        , 0.00650001, 0.143     , 0.08399999, 0.        ,\n",
       "       0.        , 0.        , 0.        , 0.        , 0.1015    ,\n",
       "       0.95449996, 1.        , 0.65      , 0.01949999, 0.        ,\n",
       "       0.        , 0.225     , 0.7425    , 0.998     , 0.9335    ,\n",
       "       0.546     , 0.        , 0.        , 0.        , 0.        ,\n",
       "       0.639     , 1.        , 0.9385    , 0.088     , 0.        ,\n",
       "       0.04750001, 0.5725    , 0.9885    , 1.        , 1.        ,\n",
       "       1.        , 0.995     , 0.1275    , 0.        , 0.        ,\n",
       "       0.02500001, 0.9235    , 1.        , 0.6635    , 0.        ,\n",
       "       0.        , 0.6775    , 1.        , 0.8275    , 0.44550002,\n",
       "       0.4075    , 1.        , 0.99399996, 0.1385    , 0.        ,\n",
       "       0.        , 0.185     , 1.        , 1.        , 0.534     ,\n",
       "       0.03749999, 0.5565    , 0.98      , 0.654     , 0.058     ,\n",
       "       0.        , 0.4625    , 1.        , 0.8205    , 0.0025    ,\n",
       "       0.        , 0.        , 0.1615    , 1.        , 1.        ,\n",
       "       0.8765    , 0.6705    , 1.        , 0.8535    , 0.02900001,\n",
       "       0.        , 0.        , 0.77250004, 1.        , 0.5135    ,\n",
       "       0.        , 0.        , 0.        , 0.0485    , 0.896     ,\n",
       "       1.        , 1.        , 1.        , 1.        , 0.768     ,\n",
       "       0.592     , 0.906     , 0.9185    , 0.98899996, 0.93200004,\n",
       "       0.185     , 0.        , 0.        , 0.        , 0.        ,\n",
       "       0.274     , 0.91400003, 1.        , 1.        , 1.        ,\n",
       "       1.        , 1.        , 1.        , 1.        , 1.        ,\n",
       "       0.5675    , 0.        , 0.        , 0.        , 0.        ,\n",
       "       0.        , 0.        , 0.25849998, 0.9065    , 1.        ,\n",
       "       1.        , 1.        , 1.        , 1.        , 1.        ,\n",
       "       0.6095    , 0.02849999, 0.        , 0.        , 0.        ,\n",
       "       0.        , 0.        , 0.        , 0.        , 0.01300001,\n",
       "       0.2855    , 0.652     , 0.9115    , 1.        , 0.741     ,\n",
       "       0.263     , 0.0045    , 0.        , 0.        , 0.        ,\n",
       "       0.        ], dtype=float32)"
      ]
     },
     "execution_count": 22,
     "metadata": {},
     "output_type": "execute_result"
    }
   ],
   "source": [
    "X_tr[0]"
   ]
  },
  {
   "cell_type": "code",
   "execution_count": 23,
   "id": "7f19d6f7",
   "metadata": {},
   "outputs": [
    {
     "data": {
      "text/plain": [
       "array([0.00000000e+00, 0.00000000e+00, 0.00000000e+00, 9.34999883e-02,\n",
       "       1.64499998e-01, 9.54999924e-02, 5.64999878e-02, 1.64499998e-01,\n",
       "       7.35000074e-02, 0.00000000e+00, 0.00000000e+00, 1.13000005e-01,\n",
       "       4.09999996e-01, 5.26000023e-01, 3.79500002e-01, 0.00000000e+00,\n",
       "       0.00000000e+00, 0.00000000e+00, 0.00000000e+00, 6.95999980e-01,\n",
       "       1.00000000e+00, 9.28499997e-01, 8.63499999e-01, 1.00000000e+00,\n",
       "       9.02500033e-01, 8.06499958e-01, 8.06499958e-01, 9.30000007e-01,\n",
       "       1.00000000e+00, 1.00000000e+00, 6.98000014e-01, 0.00000000e+00,\n",
       "       0.00000000e+00, 0.00000000e+00, 0.00000000e+00, 2.26000011e-01,\n",
       "       1.00000000e+00, 1.00000000e+00, 1.00000000e+00, 1.00000000e+00,\n",
       "       1.00000000e+00, 1.00000000e+00, 1.00000000e+00, 1.00000000e+00,\n",
       "       1.00000000e+00, 1.00000000e+00, 9.37500000e-01, 2.14999914e-02,\n",
       "       0.00000000e+00, 0.00000000e+00, 0.00000000e+00, 1.06999993e-01,\n",
       "       9.80499983e-01, 1.00000000e+00, 1.00000000e+00, 1.00000000e+00,\n",
       "       8.63499999e-01, 7.01499999e-01, 7.01499999e-01, 5.85500002e-01,\n",
       "       3.42999995e-01, 3.42999995e-01, 3.00000012e-02, 0.00000000e+00,\n",
       "       0.00000000e+00, 0.00000000e+00, 0.00000000e+00, 3.51000011e-01,\n",
       "       1.00000000e+00, 1.00000000e+00, 1.00000000e+00, 7.20000029e-01,\n",
       "       5.27999997e-01, 1.22500002e-01, 0.00000000e+00, 0.00000000e+00,\n",
       "       0.00000000e+00, 0.00000000e+00, 0.00000000e+00, 0.00000000e+00,\n",
       "       0.00000000e+00, 0.00000000e+00, 0.00000000e+00, 6.82999969e-01,\n",
       "       1.00000000e+00, 1.00000000e+00, 1.00000000e+00, 1.00000000e+00,\n",
       "       1.00000000e+00, 9.44499969e-01, 4.59500015e-01, 3.99999917e-02,\n",
       "       0.00000000e+00, 0.00000000e+00, 0.00000000e+00, 0.00000000e+00,\n",
       "       0.00000000e+00, 0.00000000e+00, 0.00000000e+00, 3.01999986e-01,\n",
       "       9.42999959e-01, 9.86999989e-01, 9.25500035e-01, 9.25500035e-01,\n",
       "       9.75000024e-01, 1.00000000e+00, 1.00000000e+00, 7.69500017e-01,\n",
       "       1.22999996e-01, 0.00000000e+00, 0.00000000e+00, 0.00000000e+00,\n",
       "       0.00000000e+00, 0.00000000e+00, 0.00000000e+00, 0.00000000e+00,\n",
       "       5.70000112e-02, 2.47500002e-01, 0.00000000e+00, 0.00000000e+00,\n",
       "       1.75500005e-01, 7.02499986e-01, 1.00000000e+00, 1.00000000e+00,\n",
       "       8.26499999e-01, 8.10000002e-02, 0.00000000e+00, 0.00000000e+00,\n",
       "       0.00000000e+00, 0.00000000e+00, 0.00000000e+00, 0.00000000e+00,\n",
       "       0.00000000e+00, 0.00000000e+00, 0.00000000e+00, 0.00000000e+00,\n",
       "       0.00000000e+00, 0.00000000e+00, 2.24999994e-01, 9.96500015e-01,\n",
       "       1.00000000e+00, 8.09000015e-01, 6.54999912e-02, 0.00000000e+00,\n",
       "       2.00000107e-02, 2.43999988e-01, 5.67000031e-01, 3.28500003e-01,\n",
       "       1.01999998e-01, 0.00000000e+00, 0.00000000e+00, 0.00000000e+00,\n",
       "       0.00000000e+00, 0.00000000e+00, 0.00000000e+00, 2.83999979e-01,\n",
       "       9.96999979e-01, 1.00000000e+00, 6.11500025e-01, 0.00000000e+00,\n",
       "       7.13000000e-01, 1.00000000e+00, 1.00000000e+00, 1.00000000e+00,\n",
       "       6.06999993e-01, 0.00000000e+00, 0.00000000e+00, 0.00000000e+00,\n",
       "       0.00000000e+00, 0.00000000e+00, 0.00000000e+00, 0.00000000e+00,\n",
       "       6.46000028e-01, 1.00000000e+00, 9.83500004e-01, 6.00000024e-02,\n",
       "       7.24500000e-01, 1.00000000e+00, 9.48000014e-01, 4.53000009e-01,\n",
       "       1.25000000e-01, 0.00000000e+00, 0.00000000e+00, 0.00000000e+00,\n",
       "       0.00000000e+00, 0.00000000e+00, 0.00000000e+00, 0.00000000e+00,\n",
       "       1.86500013e-01, 1.00000000e+00, 1.00000000e+00, 5.98999977e-01,\n",
       "       4.47499990e-01, 1.00000000e+00, 1.00000000e+00, 1.00000000e+00,\n",
       "       8.19499969e-01, 4.16000009e-01, 3.42999995e-01, 2.77000010e-01,\n",
       "       0.00000000e+00, 0.00000000e+00, 4.99993563e-04, 3.31499994e-01,\n",
       "       5.73499978e-01, 9.98000026e-01, 1.00000000e+00, 8.33500028e-01,\n",
       "       9.59999859e-02, 5.32500029e-01, 9.96500015e-01, 1.00000000e+00,\n",
       "       1.00000000e+00, 1.00000000e+00, 1.00000000e+00, 9.98000026e-01,\n",
       "       9.85000014e-01, 9.85000014e-01, 9.85000014e-01, 9.99000013e-01,\n",
       "       1.00000000e+00, 1.00000000e+00, 1.00000000e+00, 5.54499984e-01,\n",
       "       0.00000000e+00, 0.00000000e+00, 8.50000083e-02, 3.79000008e-01,\n",
       "       6.75000012e-01, 8.99999976e-01, 1.00000000e+00, 1.00000000e+00,\n",
       "       1.00000000e+00, 1.00000000e+00, 1.00000000e+00, 1.00000000e+00,\n",
       "       1.00000000e+00, 1.00000000e+00, 8.07999969e-01, 3.49999964e-02,\n",
       "       0.00000000e+00, 0.00000000e+00, 0.00000000e+00, 0.00000000e+00,\n",
       "       0.00000000e+00, 7.10000098e-02, 1.64499998e-01, 1.64499998e-01,\n",
       "       4.83500004e-01, 8.80499959e-01, 8.81000042e-01, 5.63000023e-01,\n",
       "       4.52499986e-01, 1.64499998e-01, 8.59999955e-02, 0.00000000e+00],\n",
       "      dtype=float32)"
      ]
     },
     "execution_count": 23,
     "metadata": {},
     "output_type": "execute_result"
    }
   ],
   "source": [
    "X_tr[1]"
   ]
  },
  {
   "cell_type": "code",
   "execution_count": null,
   "id": "2dd75a0e",
   "metadata": {},
   "outputs": [],
   "source": []
  }
 ],
 "metadata": {
  "kernelspec": {
   "display_name": "Python 3.10 (tensorflow)",
   "language": "python",
   "name": "tensorflow"
  },
  "language_info": {
   "codemirror_mode": {
    "name": "ipython",
    "version": 3
   },
   "file_extension": ".py",
   "mimetype": "text/x-python",
   "name": "python",
   "nbconvert_exporter": "python",
   "pygments_lexer": "ipython3",
   "version": "3.10.8"
  }
 },
 "nbformat": 4,
 "nbformat_minor": 5
}
