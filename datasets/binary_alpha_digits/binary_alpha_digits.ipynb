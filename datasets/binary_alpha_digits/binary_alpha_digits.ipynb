{
 "cells": [
  {
   "cell_type": "code",
   "execution_count": 1,
   "id": "8bbcb4ed",
   "metadata": {},
   "outputs": [],
   "source": [
    "# this notebook will convert the binary alpha digits dataset\n",
    "# from a matlab format to a text format\n",
    "# 20x16"
   ]
  },
  {
   "cell_type": "code",
   "execution_count": 2,
   "id": "a6b45517",
   "metadata": {},
   "outputs": [],
   "source": [
    "import numpy as np\n",
    "import scipy.io as spio\n",
    "import matplotlib.pyplot as plt\n",
    "%matplotlib inline"
   ]
  },
  {
   "cell_type": "code",
   "execution_count": 3,
   "id": "0eae7ec5",
   "metadata": {},
   "outputs": [
    {
     "data": {
      "text/plain": [
       "[('dat', (36, 39), 'cell'),\n",
       " ('numclass', (1, 1), 'double'),\n",
       " ('classlabels', (1, 36), 'cell'),\n",
       " ('classcounts', (1, 36), 'cell')]"
      ]
     },
     "execution_count": 3,
     "metadata": {},
     "output_type": "execute_result"
    }
   ],
   "source": [
    "spio.whosmat('binaryalphadigs.mat')"
   ]
  },
  {
   "cell_type": "code",
   "execution_count": 4,
   "id": "4784ed8a",
   "metadata": {},
   "outputs": [],
   "source": [
    "bad = spio.loadmat('binaryalphadigs.mat', squeeze_me=True)"
   ]
  },
  {
   "cell_type": "code",
   "execution_count": 5,
   "id": "ffda349d",
   "metadata": {},
   "outputs": [],
   "source": [
    "images = bad['dat']\n",
    "nclasses = bad['numclass']\n",
    "classlabels = bad['classlabels']\n",
    "classcounts = bad['classcounts']"
   ]
  },
  {
   "cell_type": "code",
   "execution_count": 6,
   "id": "31b673bf",
   "metadata": {},
   "outputs": [
    {
     "data": {
      "text/plain": [
       "36"
      ]
     },
     "execution_count": 6,
     "metadata": {},
     "output_type": "execute_result"
    }
   ],
   "source": [
    "# 36 digis 0-9 A-Z\n",
    "len(images)"
   ]
  },
  {
   "cell_type": "code",
   "execution_count": 7,
   "id": "3f7f56c2",
   "metadata": {},
   "outputs": [
    {
     "data": {
      "text/plain": [
       "39"
      ]
     },
     "execution_count": 7,
     "metadata": {},
     "output_type": "execute_result"
    }
   ],
   "source": [
    "# 39 examples of each class\n",
    "len(images[0])"
   ]
  },
  {
   "cell_type": "code",
   "execution_count": 8,
   "id": "f550be74",
   "metadata": {},
   "outputs": [
    {
     "data": {
      "text/plain": [
       "20"
      ]
     },
     "execution_count": 8,
     "metadata": {},
     "output_type": "execute_result"
    }
   ],
   "source": [
    "len(images[0][0])"
   ]
  },
  {
   "cell_type": "code",
   "execution_count": 9,
   "id": "c5ce0f43",
   "metadata": {},
   "outputs": [
    {
     "data": {
      "text/plain": [
       "16"
      ]
     },
     "execution_count": 9,
     "metadata": {},
     "output_type": "execute_result"
    }
   ],
   "source": [
    "len(images[0][0][0])"
   ]
  },
  {
   "cell_type": "code",
   "execution_count": 10,
   "id": "1353620d",
   "metadata": {},
   "outputs": [
    {
     "data": {
      "text/plain": [
       "320"
      ]
     },
     "execution_count": 10,
     "metadata": {},
     "output_type": "execute_result"
    }
   ],
   "source": [
    "20*16"
   ]
  },
  {
   "cell_type": "code",
   "execution_count": 11,
   "id": "d3180337",
   "metadata": {},
   "outputs": [
    {
     "data": {
      "text/plain": [
       "320"
      ]
     },
     "execution_count": 11,
     "metadata": {},
     "output_type": "execute_result"
    }
   ],
   "source": [
    "len(images[0][0].flatten())"
   ]
  },
  {
   "cell_type": "code",
   "execution_count": 12,
   "id": "42da09dc",
   "metadata": {},
   "outputs": [
    {
     "name": "stdout",
     "output_type": "stream",
     "text": [
      "36\n"
     ]
    }
   ],
   "source": [
    "print(nclasses)"
   ]
  },
  {
   "cell_type": "code",
   "execution_count": 13,
   "id": "f3f85fd9",
   "metadata": {},
   "outputs": [
    {
     "name": "stdout",
     "output_type": "stream",
     "text": [
      "['0' '1' '2' '3' '4' '5' '6' '7' '8' '9' 'A' 'B' 'C' 'D' 'E' 'F' 'G' 'H'\n",
      " 'I' 'J' 'K' 'L' 'M' 'N' 'O' 'P' 'Q' 'R' 'S' 'T' 'U' 'V' 'W' 'X' 'Y' 'Z']\n"
     ]
    }
   ],
   "source": [
    "print(classlabels)"
   ]
  },
  {
   "cell_type": "code",
   "execution_count": 14,
   "id": "63bce448",
   "metadata": {},
   "outputs": [
    {
     "name": "stdout",
     "output_type": "stream",
     "text": [
      "[39 39 39 39 39 39 39 39 39 39 39 39 39 39 39 39 39 39 39 39 39 39 39 39\n",
      " 39 39 39 39 39 39 39 39 39 39 39 39]\n"
     ]
    }
   ],
   "source": [
    "print(classcounts)"
   ]
  },
  {
   "cell_type": "code",
   "execution_count": 15,
   "id": "a83fa37b",
   "metadata": {
    "scrolled": false
   },
   "outputs": [
    {
     "data": {
      "image/png": "[encoded data removed]",
      "text/plain": [
       "<Figure size 640x480 with 6 Axes>"
      ]
     },
     "metadata": {},
     "output_type": "display_data"
    },
    {
     "data": {
      "image/png": "[encoded data removed]",
      "text/plain": [
       "<Figure size 640x480 with 6 Axes>"
      ]
     },
     "metadata": {},
     "output_type": "display_data"
    },
    {
     "data": {
      "image/png": "[encoded data removed]",
      "text/plain": [
       "<Figure size 640x480 with 6 Axes>"
      ]
     },
     "metadata": {},
     "output_type": "display_data"
    },
    {
     "data": {
      "image/png": "[encoded data removed]",
      "text/plain": [
       "<Figure size 640x480 with 6 Axes>"
      ]
     },
     "metadata": {},
     "output_type": "display_data"
    },
    {
     "data": {
      "image/png": "[encoded data removed]",
      "text/plain": [
       "<Figure size 640x480 with 6 Axes>"
      ]
     },
     "metadata": {},
     "output_type": "display_data"
    },
    {
     "data": {
      "image/png": "[encoded data removed]",
      "text/plain": [
       "<Figure size 640x480 with 6 Axes>"
      ]
     },
     "metadata": {},
     "output_type": "display_data"
    },
    {
     "data": {
      "image/png": "[encoded data removed]",
      "text/plain": [
       "<Figure size 640x480 with 6 Axes>"
      ]
     },
     "metadata": {},
     "output_type": "display_data"
    },
    {
     "data": {
      "image/png": "[encoded data removed]",
      "text/plain": [
       "<Figure size 640x480 with 6 Axes>"
      ]
     },
     "metadata": {},
     "output_type": "display_data"
    },
    {
     "data": {
      "image/png": "[encoded data removed]",
      "text/plain": [
       "<Figure size 640x480 with 6 Axes>"
      ]
     },
     "metadata": {},
     "output_type": "display_data"
    },
    {
     "data": {
      "image/png": "[encoded data removed]",
      "text/plain": [
       "<Figure size 640x480 with 6 Axes>"
      ]
     },
     "metadata": {},
     "output_type": "display_data"
    },
    {
     "data": {
      "image/png": "[encoded data removed]",
      "text/plain": [
       "<Figure size 640x480 with 6 Axes>"
      ]
     },
     "metadata": {},
     "output_type": "display_data"
    },
    {
     "data": {
      "image/png": "[encoded data removed]",
      "text/plain": [
       "<Figure size 640x480 with 6 Axes>"
      ]
     },
     "metadata": {},
     "output_type": "display_data"
    },
    {
     "data": {
      "image/png": "[encoded data removed]",
      "text/plain": [
       "<Figure size 640x480 with 6 Axes>"
      ]
     },
     "metadata": {},
     "output_type": "display_data"
    },
    {
     "data": {
      "image/png": "[encoded data removed]",
      "text/plain": [
       "<Figure size 640x480 with 6 Axes>"
      ]
     },
     "metadata": {},
     "output_type": "display_data"
    },
    {
     "data": {
      "image/png": "[encoded data removed]",
      "text/plain": [
       "<Figure size 640x480 with 6 Axes>"
      ]
     },
     "metadata": {},
     "output_type": "display_data"
    },
    {
     "data": {
      "image/png": "[encoded data removed]",
      "text/plain": [
       "<Figure size 640x480 with 6 Axes>"
      ]
     },
     "metadata": {},
     "output_type": "display_data"
    },
    {
     "data": {
      "image/png": "[encoded data removed]",
      "text/plain": [
       "<Figure size 640x480 with 6 Axes>"
      ]
     },
     "metadata": {},
     "output_type": "display_data"
    },
    {
     "data": {
      "image/png": "[encoded data removed]",
      "text/plain": [
       "<Figure size 640x480 with 6 Axes>"
      ]
     },
     "metadata": {},
     "output_type": "display_data"
    },
    {
     "data": {
      "image/png": "[encoded data removed]",
      "text/plain": [
       "<Figure size 640x480 with 6 Axes>"
      ]
     },
     "metadata": {},
     "output_type": "display_data"
    },
    {
     "data": {
      "image/png": "[encoded data removed]",
      "text/plain": [
       "<Figure size 640x480 with 6 Axes>"
      ]
     },
     "metadata": {},
     "output_type": "display_data"
    },
    {
     "data": {
      "image/png": "[encoded data removed]",
      "text/plain": [
       "<Figure size 640x480 with 6 Axes>"
      ]
     },
     "metadata": {},
     "output_type": "display_data"
    },
    {
     "data": {
      "image/png": "[encoded data removed]",
      "text/plain": [
       "<Figure size 640x480 with 6 Axes>"
      ]
     },
     "metadata": {},
     "output_type": "display_data"
    },
    {
     "data": {
      "image/png": "[encoded data removed]",
      "text/plain": [
       "<Figure size 640x480 with 6 Axes>"
      ]
     },
     "metadata": {},
     "output_type": "display_data"
    },
    {
     "data": {
      "image/png": "[encoded data removed]",
      "text/plain": [
       "<Figure size 640x480 with 6 Axes>"
      ]
     },
     "metadata": {},
     "output_type": "display_data"
    },
    {
     "data": {
      "image/png": "[encoded data removed]",
      "text/plain": [
       "<Figure size 640x480 with 6 Axes>"
      ]
     },
     "metadata": {},
     "output_type": "display_data"
    },
    {
     "data": {
      "image/png": "[encoded data removed]",
      "text/plain": [
       "<Figure size 640x480 with 6 Axes>"
      ]
     },
     "metadata": {},
     "output_type": "display_data"
    },
    {
     "data": {
      "image/png": "[encoded data removed]",
      "text/plain": [
       "<Figure size 640x480 with 6 Axes>"
      ]
     },
     "metadata": {},
     "output_type": "display_data"
    },
    {
     "data": {
      "image/png": "[encoded data removed]",
      "text/plain": [
       "<Figure size 640x480 with 6 Axes>"
      ]
     },
     "metadata": {},
     "output_type": "display_data"
    },
    {
     "data": {
      "image/png": "[encoded data removed]",
      "text/plain": [
       "<Figure size 640x480 with 6 Axes>"
      ]
     },
     "metadata": {},
     "output_type": "display_data"
    },
    {
     "data": {
      "image/png": "[encoded data removed]",
      "text/plain": [
       "<Figure size 640x480 with 6 Axes>"
      ]
     },
     "metadata": {},
     "output_type": "display_data"
    },
    {
     "data": {
      "image/png": "[encoded data removed]",
      "text/plain": [
       "<Figure size 640x480 with 6 Axes>"
      ]
     },
     "metadata": {},
     "output_type": "display_data"
    },
    {
     "data": {
      "image/png": "[encoded data removed]",
      "text/plain": [
       "<Figure size 640x480 with 6 Axes>"
      ]
     },
     "metadata": {},
     "output_type": "display_data"
    },
    {
     "data": {
      "image/png": "[encoded data removed]",
      "text/plain": [
       "<Figure size 640x480 with 6 Axes>"
      ]
     },
     "metadata": {},
     "output_type": "display_data"
    },
    {
     "data": {
      "image/png": "[encoded data removed]",
      "text/plain": [
       "<Figure size 640x480 with 6 Axes>"
      ]
     },
     "metadata": {},
     "output_type": "display_data"
    },
    {
     "data": {
      "image/png": "[encoded data removed]",
      "text/plain": [
       "<Figure size 640x480 with 6 Axes>"
      ]
     },
     "metadata": {},
     "output_type": "display_data"
    },
    {
     "data": {
      "image/png": "[encoded data removed]",
      "text/plain": [
       "<Figure size 640x480 with 6 Axes>"
      ]
     },
     "metadata": {},
     "output_type": "display_data"
    }
   ],
   "source": [
    "ndigit = 6\n",
    "nshow = nclasses\n",
    "for i in range(nshow):\n",
    "    for j in range(ndigit):\n",
    "        plt.subplot(1, ndigit, j+1)\n",
    "        plt.imshow(images[i][j])\n",
    "    plt.show()"
   ]
  },
  {
   "cell_type": "code",
   "execution_count": 16,
   "id": "21fdf424",
   "metadata": {
    "scrolled": false
   },
   "outputs": [
    {
     "name": "stdout",
     "output_type": "stream",
     "text": [
      "[[0 0 0 0 0 1 1 1 0 0 0 0 0 0 0 0]\n",
      " [0 0 0 0 1 1 1 1 1 1 0 0 0 0 0 0]\n",
      " [0 0 1 1 1 0 0 0 0 1 1 0 0 0 0 0]\n",
      " [0 1 1 1 0 0 0 0 0 1 1 0 0 0 0 0]\n",
      " [0 1 1 0 1 1 1 0 0 1 1 0 0 0 0 0]\n",
      " [1 1 0 0 1 1 1 1 1 1 1 0 0 0 0 0]\n",
      " [1 1 0 0 0 0 1 1 1 1 1 0 0 0 0 0]\n",
      " [1 1 0 0 0 0 0 0 0 1 1 1 1 0 0 0]\n",
      " [1 1 0 0 0 0 0 0 0 1 1 1 1 0 0 0]\n",
      " [1 1 0 0 0 0 0 0 0 0 0 1 1 1 0 0]\n",
      " [1 1 0 0 0 0 0 0 0 0 0 0 0 1 0 0]\n",
      " [1 1 0 0 0 0 0 0 0 0 0 0 0 1 1 1]\n",
      " [0 1 1 0 0 0 0 0 0 0 0 0 0 0 1 1]\n",
      " [0 1 1 1 0 0 0 0 0 0 0 0 0 0 0 1]\n",
      " [0 1 1 1 0 0 0 0 0 0 0 0 0 0 0 1]\n",
      " [0 0 1 1 1 0 0 0 0 0 0 0 0 0 0 1]\n",
      " [0 0 1 1 1 1 0 0 0 0 0 0 0 0 0 1]\n",
      " [0 0 0 0 1 1 1 1 0 0 0 0 0 0 0 1]\n",
      " [0 0 0 0 1 1 1 1 1 0 0 0 0 0 0 1]\n",
      " [0 0 0 0 0 0 1 1 1 1 1 1 1 1 1 1]]\n",
      "[[0 0 0 0 0 0 0 0 0 1 1 1 1 1 1 1]\n",
      " [0 0 0 0 0 0 0 1 1 1 1 1 1 1 1 1]\n",
      " [0 0 0 0 0 1 1 1 1 1 1 1 1 1 1 1]\n",
      " [0 0 0 0 0 1 1 1 1 1 1 1 1 1 1 1]\n",
      " [0 0 0 0 0 1 1 1 1 1 1 1 1 1 1 1]\n",
      " [0 0 0 0 0 1 1 1 1 1 1 1 1 1 1 1]\n",
      " [0 0 0 0 0 1 1 1 1 1 1 1 1 1 1 1]\n",
      " [0 0 0 0 0 0 0 1 1 1 1 1 1 1 0 0]\n",
      " [0 0 0 0 0 1 1 1 1 1 1 1 1 1 0 0]\n",
      " [0 0 0 0 0 1 1 1 1 1 1 1 0 0 0 0]\n",
      " [0 1 1 1 1 1 1 1 1 1 1 1 0 0 0 0]\n",
      " [0 1 1 1 1 1 1 1 1 1 1 1 0 0 0 0]\n",
      " [0 1 1 1 1 1 1 1 1 1 1 1 0 0 0 0]\n",
      " [1 1 1 1 1 1 1 1 1 1 1 1 0 0 0 0]\n",
      " [1 1 1 1 1 1 1 1 1 1 1 1 0 0 0 0]\n",
      " [1 1 1 1 1 1 1 1 1 1 1 1 0 0 0 0]\n",
      " [1 1 1 1 1 1 1 1 1 1 1 1 0 0 0 0]\n",
      " [1 1 1 1 1 1 1 1 1 1 0 0 0 0 0 0]\n",
      " [1 1 1 1 1 1 1 1 1 1 1 1 1 1 1 1]\n",
      " [1 1 1 1 1 1 1 1 1 1 1 1 1 1 1 1]]\n",
      "[[0 1 1 1 1 0 0 0 0 0 0 0 0 0 0 0]\n",
      " [1 1 1 1 1 1 1 1 0 0 0 0 0 0 0 0]\n",
      " [1 1 1 0 1 1 1 1 1 0 0 0 0 0 0 0]\n",
      " [1 1 0 0 0 1 1 1 1 1 0 0 0 0 0 0]\n",
      " [1 1 0 0 0 0 0 1 1 1 0 0 0 0 0 0]\n",
      " [0 1 0 0 0 0 0 1 1 1 0 0 0 0 0 0]\n",
      " [0 0 0 0 0 0 1 1 1 1 0 0 0 0 0 0]\n",
      " [0 0 0 0 0 0 1 1 1 0 0 0 0 0 0 0]\n",
      " [0 0 0 0 0 0 1 1 0 0 0 0 0 0 0 0]\n",
      " [0 0 0 0 0 1 1 1 0 0 0 0 0 0 0 0]\n",
      " [0 0 0 0 0 1 1 1 0 0 0 0 0 0 0 0]\n",
      " [0 0 0 0 0 1 1 0 0 0 0 0 0 0 0 0]\n",
      " [0 0 0 0 1 1 1 0 0 0 0 0 0 0 0 0]\n",
      " [0 0 0 0 1 1 0 0 0 0 0 0 0 0 0 0]\n",
      " [0 0 0 0 1 1 0 0 0 0 0 0 0 0 0 0]\n",
      " [0 0 0 1 1 1 0 0 0 0 0 0 0 0 0 0]\n",
      " [0 0 0 1 1 1 1 1 1 0 0 0 0 0 0 0]\n",
      " [0 0 0 1 1 1 1 1 1 1 1 1 1 1 1 1]\n",
      " [0 0 0 1 1 1 1 1 1 1 1 1 1 1 1 1]\n",
      " [0 0 0 1 1 1 1 1 1 1 1 1 1 1 1 1]]\n",
      "[[0 0 0 0 1 1 1 1 1 1 0 0 0 0 0 0]\n",
      " [1 1 1 1 1 1 1 1 1 1 1 1 1 1 1 0]\n",
      " [1 1 1 1 1 1 1 1 1 1 1 1 1 1 1 0]\n",
      " [1 1 1 0 0 0 0 0 1 1 1 1 1 1 1 0]\n",
      " [1 1 0 0 0 0 0 0 0 0 0 0 1 1 1 0]\n",
      " [0 0 0 0 0 0 0 0 0 0 0 0 0 1 1 1]\n",
      " [0 0 0 0 0 0 0 0 0 0 0 0 1 1 1 0]\n",
      " [0 0 0 0 0 0 0 0 0 0 0 1 1 1 1 0]\n",
      " [0 0 0 0 0 0 0 0 0 0 0 1 1 1 1 0]\n",
      " [0 0 0 0 0 0 0 0 0 1 1 1 1 1 0 0]\n",
      " [0 0 0 0 0 0 1 1 1 1 1 1 1 0 0 0]\n",
      " [0 0 0 0 1 1 1 1 1 1 1 1 1 1 1 1]\n",
      " [0 0 0 0 1 1 1 1 1 1 1 1 1 1 1 1]\n",
      " [0 0 0 0 0 0 0 0 0 0 0 0 1 1 1 1]\n",
      " [0 0 0 0 0 0 0 0 0 0 0 0 0 1 1 1]\n",
      " [0 0 1 1 1 0 0 0 0 0 0 0 0 0 1 1]\n",
      " [0 0 1 1 1 0 0 0 0 0 0 0 0 0 1 1]\n",
      " [0 0 1 1 1 1 0 0 0 0 0 0 0 1 1 1]\n",
      " [0 0 1 1 1 1 1 1 1 0 1 1 1 1 1 1]\n",
      " [0 0 0 1 1 1 1 1 1 1 1 1 1 1 1 1]]\n",
      "[[0 0 0 0 1 0 0 0 0 0 0 0 0 0 0 0]\n",
      " [0 0 0 0 1 1 1 1 1 0 0 0 0 0 0 0]\n",
      " [0 0 0 0 1 1 1 1 1 0 0 0 0 0 0 0]\n",
      " [0 0 0 1 1 1 0 1 1 0 0 0 0 0 0 0]\n",
      " [0 0 0 1 1 0 0 1 1 0 0 0 0 0 0 0]\n",
      " [0 0 0 1 0 0 1 1 0 0 0 0 0 0 0 0]\n",
      " [0 0 1 1 0 1 1 1 0 0 0 0 0 0 0 0]\n",
      " [0 0 1 1 0 1 1 1 0 0 0 0 0 0 0 0]\n",
      " [0 1 1 0 0 1 1 0 0 0 0 0 0 0 1 1]\n",
      " [0 1 1 0 1 1 1 0 0 0 1 1 1 1 1 1]\n",
      " [0 1 1 0 1 1 1 1 1 1 1 1 1 1 1 1]\n",
      " [0 1 1 1 1 1 1 1 1 1 1 1 1 1 0 0]\n",
      " [0 1 1 1 1 1 1 1 1 0 0 0 0 0 0 0]\n",
      " [0 0 1 1 1 0 0 0 0 0 0 0 0 0 0 0]\n",
      " [0 0 1 1 0 0 0 0 0 0 0 0 0 0 0 0]\n",
      " [0 0 1 1 0 0 0 0 0 0 0 0 0 0 0 0]\n",
      " [0 1 1 1 0 0 0 0 0 0 0 0 0 0 0 0]\n",
      " [0 1 1 0 0 0 0 0 0 0 0 0 0 0 0 0]\n",
      " [1 1 1 0 0 0 0 0 0 0 0 0 0 0 0 0]\n",
      " [1 1 1 0 0 0 0 0 0 0 0 0 0 0 0 0]]\n",
      "[[0 0 0 0 0 0 0 0 0 0 0 1 1 1 1 1]\n",
      " [0 0 0 0 0 0 0 0 1 1 1 1 1 1 1 1]\n",
      " [0 0 0 0 0 0 0 0 1 1 1 1 1 1 1 1]\n",
      " [0 0 0 0 0 0 0 1 1 1 0 0 0 0 0 0]\n",
      " [0 0 0 0 0 1 1 1 1 0 0 0 0 0 0 0]\n",
      " [0 0 0 0 0 1 1 1 0 0 0 0 0 0 0 0]\n",
      " [0 0 0 0 1 1 1 1 1 0 0 0 0 0 0 0]\n",
      " [0 0 0 0 1 1 1 1 1 1 1 0 0 0 0 0]\n",
      " [0 0 0 0 0 1 0 1 1 1 1 1 0 0 0 0]\n",
      " [0 0 0 0 0 0 0 0 0 0 1 1 0 0 0 0]\n",
      " [0 0 0 0 0 0 0 0 0 0 0 1 1 0 0 0]\n",
      " [0 0 0 0 0 0 0 0 0 0 0 1 1 0 0 0]\n",
      " [0 0 0 0 0 0 0 0 0 0 0 1 1 0 0 0]\n",
      " [0 0 0 0 0 0 0 0 0 0 0 1 1 0 0 0]\n",
      " [0 1 1 1 1 1 0 0 0 0 0 1 1 0 0 0]\n",
      " [1 1 1 1 0 1 1 0 0 0 1 1 0 0 0 0]\n",
      " [1 1 1 0 0 0 1 0 0 1 1 1 0 0 0 0]\n",
      " [0 1 1 0 0 0 0 0 1 1 1 1 0 0 0 0]\n",
      " [0 1 1 0 0 0 0 1 1 1 1 0 0 0 0 0]\n",
      " [0 1 1 1 1 1 1 1 1 0 0 0 0 0 0 0]]\n",
      "[[0 0 0 0 0 1 1 1 0 0 0 0 0 0 0 0]\n",
      " [0 0 0 0 1 1 1 1 1 1 0 0 0 0 0 0]\n",
      " [0 0 0 1 1 1 1 1 1 1 0 0 0 0 0 0]\n",
      " [0 0 0 1 1 1 1 0 0 1 0 0 0 0 0 0]\n",
      " [0 0 1 1 1 1 0 0 0 0 0 0 0 0 0 0]\n",
      " [0 1 1 1 1 0 0 0 0 0 0 0 0 0 0 0]\n",
      " [0 1 1 1 1 0 0 0 0 0 0 0 0 0 0 0]\n",
      " [0 1 1 1 1 0 0 0 0 0 0 0 0 0 0 0]\n",
      " [1 1 1 0 0 0 0 0 0 0 0 0 0 0 0 0]\n",
      " [1 1 1 0 0 0 0 0 0 0 0 0 0 0 0 0]\n",
      " [1 1 1 0 0 0 0 0 0 0 0 0 0 0 0 0]\n",
      " [1 1 1 0 0 0 0 1 1 1 1 1 1 1 1 1]\n",
      " [1 1 1 0 0 1 1 1 1 1 1 1 1 1 1 1]\n",
      " [1 1 1 1 1 1 1 1 1 1 0 1 1 1 1 1]\n",
      " [1 1 1 1 1 1 1 0 0 0 0 0 1 1 1 1]\n",
      " [0 1 1 1 0 0 0 0 0 0 0 0 0 0 1 1]\n",
      " [0 1 1 1 1 0 0 0 0 0 0 0 0 0 1 1]\n",
      " [0 1 1 1 1 1 0 0 0 0 0 0 1 1 1 1]\n",
      " [0 0 1 1 1 1 1 0 0 0 0 1 1 1 1 1]\n",
      " [0 0 0 0 1 1 1 1 1 1 1 1 1 1 1 0]]\n",
      "[[0 1 1 1 1 1 1 1 1 1 0 0 0 0 0 0]\n",
      " [1 1 1 1 1 1 1 1 1 1 1 1 1 1 1 0]\n",
      " [0 0 0 0 0 0 0 1 1 1 1 1 1 1 1 1]\n",
      " [0 0 0 0 0 0 0 0 0 0 0 0 0 0 1 1]\n",
      " [0 0 0 0 0 0 0 0 0 0 0 0 0 0 1 1]\n",
      " [0 0 0 0 0 0 0 0 0 0 0 0 0 0 1 1]\n",
      " [0 0 0 0 0 0 0 0 0 0 0 0 0 0 1 1]\n",
      " [0 0 0 0 0 0 0 0 0 0 0 0 0 1 1 1]\n",
      " [0 0 0 0 0 0 0 0 0 0 0 0 0 1 1 1]\n",
      " [0 0 0 0 0 0 0 0 0 0 0 0 1 1 1 1]\n",
      " [0 0 0 0 0 0 0 0 0 0 0 0 1 1 1 0]\n",
      " [0 0 0 0 0 0 0 0 0 0 0 0 1 1 1 0]\n",
      " [0 0 0 0 0 0 0 0 0 0 0 1 1 1 0 0]\n",
      " [0 0 0 0 0 0 0 0 0 0 0 1 1 1 0 0]\n",
      " [0 0 0 0 0 0 0 0 0 0 1 1 1 1 0 0]\n",
      " [0 0 0 0 0 0 0 0 0 0 1 1 1 0 0 0]\n",
      " [0 0 0 0 0 0 0 0 0 0 1 1 1 0 0 0]\n",
      " [0 0 0 0 0 0 0 0 0 1 1 1 1 1 0 0]\n",
      " [0 0 0 0 0 0 0 0 0 1 1 1 1 1 0 0]\n",
      " [0 0 0 0 0 0 0 0 1 1 1 1 0 0 0 0]]\n",
      "[[0 0 0 0 0 0 0 1 1 1 1 1 1 1 0 0]\n",
      " [0 0 0 0 1 1 1 1 1 1 1 1 1 0 0 0]\n",
      " [0 1 1 1 1 1 1 1 1 1 1 1 1 1 1 1]\n",
      " [0 1 1 1 1 0 1 1 0 0 0 1 1 1 1 1]\n",
      " [1 1 1 1 0 0 0 1 0 0 0 0 0 1 1 1]\n",
      " [1 1 0 0 0 0 0 0 0 0 0 0 0 1 1 1]\n",
      " [1 1 1 1 0 0 0 0 0 0 0 0 0 1 1 1]\n",
      " [1 1 1 1 0 0 0 0 0 0 0 0 0 1 1 1]\n",
      " [0 1 1 1 1 1 1 0 0 0 0 0 1 1 1 1]\n",
      " [0 0 0 0 1 1 1 1 1 1 1 1 1 1 1 0]\n",
      " [0 0 0 0 0 0 0 1 1 1 1 1 1 1 0 0]\n",
      " [0 0 0 0 0 0 0 1 1 1 1 1 1 0 0 0]\n",
      " [0 0 0 0 1 1 1 1 1 1 1 1 1 1 0 0]\n",
      " [0 0 1 1 1 1 1 0 0 0 0 1 1 1 1 0]\n",
      " [0 1 1 1 1 1 0 0 0 0 0 1 1 1 1 0]\n",
      " [0 1 1 1 0 0 0 0 0 0 0 1 1 1 1 0]\n",
      " [0 1 1 1 0 0 0 0 0 0 0 1 1 1 0 0]\n",
      " [0 1 1 1 0 0 0 0 0 0 1 1 1 1 0 0]\n",
      " [0 1 1 1 0 0 0 0 0 1 1 1 1 0 0 0]\n",
      " [0 1 1 1 1 1 1 1 1 1 1 0 0 0 0 0]]\n",
      "[[0 0 0 0 0 0 0 0 1 1 1 1 0 0 0 0]\n",
      " [0 0 0 0 0 0 0 1 1 1 1 1 1 0 0 0]\n",
      " [0 0 0 0 1 1 1 1 1 0 1 1 0 0 0 0]\n",
      " [0 0 1 1 1 1 0 0 0 0 0 1 0 0 0 0]\n",
      " [0 1 1 1 0 0 0 0 0 0 1 1 0 0 1 1]\n",
      " [0 1 1 0 0 0 0 0 0 0 0 0 0 1 1 1]\n",
      " [1 1 1 0 0 0 0 0 0 0 0 1 1 1 1 1]\n",
      " [1 1 0 0 0 0 0 0 0 0 0 1 1 1 1 0]\n",
      " [1 1 1 1 1 1 1 1 1 1 0 1 1 1 1 0]\n",
      " [0 1 1 1 1 1 1 1 0 0 0 1 1 1 0 0]\n",
      " [0 0 0 1 1 1 0 0 0 0 1 1 1 1 0 0]\n",
      " [0 0 0 0 0 0 0 0 0 0 1 1 1 0 0 0]\n",
      " [0 0 0 0 0 0 0 0 0 1 1 1 0 0 0 0]\n",
      " [0 0 0 0 0 0 0 0 1 1 1 1 0 0 0 0]\n",
      " [0 0 0 0 0 0 0 1 1 1 1 0 0 0 0 0]\n",
      " [0 0 0 0 0 0 0 1 1 1 0 0 0 0 0 0]\n",
      " [0 0 0 0 0 0 1 1 1 1 0 0 0 0 0 0]\n",
      " [0 0 0 0 0 1 1 1 1 0 0 0 0 0 0 0]\n",
      " [0 0 0 0 0 1 1 1 0 0 0 0 0 0 0 0]\n",
      " [0 0 0 0 0 1 1 1 0 0 0 0 0 0 0 0]]\n",
      "[[0 0 0 0 0 0 1 1 0 0 0 0 0 0 0 0]\n",
      " [0 0 0 0 0 1 1 1 1 1 1 0 0 0 0 0]\n",
      " [0 0 0 0 0 1 1 1 1 1 1 1 1 0 0 0]\n",
      " [0 0 0 0 0 0 0 0 0 1 1 1 1 1 0 0]\n",
      " [0 0 0 0 1 1 1 1 0 0 1 1 1 1 1 0]\n",
      " [0 0 0 0 1 1 1 1 0 0 0 1 1 1 1 1]\n",
      " [0 0 0 1 1 1 1 0 0 0 0 0 1 1 1 1]\n",
      " [0 0 0 1 1 1 0 0 0 0 0 0 1 1 1 1]\n",
      " [0 0 0 1 1 1 0 1 1 1 1 1 1 1 1 1]\n",
      " [0 0 0 1 1 1 1 1 1 1 1 1 1 1 1 1]\n",
      " [0 0 1 1 1 1 1 1 1 1 1 1 1 1 1 1]\n",
      " [0 1 1 1 1 0 0 0 0 0 0 0 1 1 1 1]\n",
      " [0 1 1 1 1 0 0 0 0 0 0 0 1 1 1 1]\n",
      " [0 1 1 1 1 0 0 0 0 0 0 0 1 1 1 1]\n",
      " [0 1 1 1 0 0 0 0 0 0 0 0 1 1 1 1]\n",
      " [1 1 1 1 0 0 0 0 0 0 0 0 1 1 1 1]\n",
      " [1 1 1 0 0 0 0 0 0 0 0 1 1 1 1 1]\n",
      " [1 1 1 0 0 0 0 0 0 0 0 1 1 1 1 0]\n",
      " [0 1 1 0 0 0 0 0 0 0 0 1 1 1 1 0]\n",
      " [0 0 0 0 0 0 0 0 0 0 0 1 1 1 0 0]]\n",
      "[[0 0 0 1 1 1 1 1 0 0 0 0 0 0 0 0]\n",
      " [0 1 1 1 1 1 1 1 1 1 1 0 0 0 0 0]\n",
      " [0 1 1 1 0 0 0 0 0 1 1 1 0 0 0 0]\n",
      " [0 1 1 0 0 0 0 0 0 1 1 1 0 0 0 0]\n",
      " [0 1 1 0 0 0 0 0 0 0 1 1 0 0 0 0]\n",
      " [0 1 1 0 0 0 0 0 0 0 1 1 0 0 0 0]\n",
      " [0 1 1 0 0 0 0 0 0 1 1 1 0 0 0 0]\n",
      " [0 1 1 0 0 0 0 1 1 1 1 1 0 0 0 0]\n",
      " [0 1 1 1 1 1 1 1 1 1 1 1 1 0 0 0]\n",
      " [0 1 1 1 1 1 1 1 1 1 1 1 1 1 0 0]\n",
      " [0 1 1 0 0 0 0 0 0 0 0 1 1 1 1 0]\n",
      " [0 1 1 0 0 0 0 0 0 0 0 0 0 1 1 1]\n",
      " [0 1 0 0 0 0 0 0 0 0 0 0 0 1 1 1]\n",
      " [1 1 0 0 0 0 0 0 0 0 0 0 0 0 1 1]\n",
      " [1 1 0 0 0 0 0 0 0 0 0 0 0 0 0 1]\n",
      " [1 1 1 0 0 0 0 0 0 0 0 0 0 0 1 1]\n",
      " [1 1 1 1 0 0 0 0 0 0 0 0 0 0 1 1]\n",
      " [1 1 1 1 0 0 0 0 0 0 0 0 1 1 1 1]\n",
      " [0 1 1 1 1 1 0 0 0 0 1 1 1 1 1 1]\n",
      " [0 0 1 1 1 1 1 1 1 1 1 1 1 1 0 0]]\n",
      "[[0 0 0 0 0 0 0 0 0 1 1 1 1 1 1 1]\n",
      " [0 0 0 0 0 1 1 1 1 1 1 1 1 1 1 1]\n",
      " [0 0 0 0 1 1 1 1 1 1 1 1 1 1 1 1]\n",
      " [0 0 0 1 1 1 1 1 1 1 0 0 1 1 1 1]\n",
      " [0 0 1 1 1 1 1 1 0 0 0 0 0 0 0 0]\n",
      " [0 1 1 1 1 1 1 1 0 0 0 0 0 0 0 0]\n",
      " [0 1 1 1 1 1 1 0 0 0 0 0 0 0 0 0]\n",
      " [0 1 1 1 1 0 0 0 0 0 0 0 0 0 0 0]\n",
      " [0 1 1 1 1 0 0 0 0 0 0 0 0 0 0 0]\n",
      " [1 1 1 0 0 0 0 0 0 0 0 0 0 0 0 0]\n",
      " [1 1 1 0 0 0 0 0 0 0 0 0 0 0 0 0]\n",
      " [1 1 1 0 0 0 0 0 0 0 0 0 0 0 0 0]\n",
      " [1 1 1 0 0 0 0 0 0 0 0 0 0 0 0 0]\n",
      " [1 1 1 0 0 0 0 0 0 0 0 0 0 0 0 0]\n",
      " [1 1 1 1 1 0 0 0 0 0 0 0 0 0 0 0]\n",
      " [1 1 1 1 1 1 0 0 0 0 0 0 0 0 0 0]\n",
      " [0 1 1 1 1 1 1 1 0 0 0 0 0 0 0 0]\n",
      " [0 1 1 1 1 1 1 1 1 1 1 0 0 0 0 0]\n",
      " [0 0 1 1 1 1 1 1 1 1 1 1 1 1 1 1]\n",
      " [0 0 0 1 1 1 1 1 1 1 1 1 1 1 1 1]]\n",
      "[[0 1 1 1 1 1 0 0 0 0 0 0 0 0 0 0]\n",
      " [0 1 1 1 1 1 1 1 1 1 1 0 0 0 0 0]\n",
      " [0 1 1 1 1 1 1 1 1 1 1 1 1 0 0 0]\n",
      " [0 1 1 1 1 1 1 1 1 1 1 1 1 0 0 0]\n",
      " [0 0 0 0 0 0 1 1 1 1 1 1 1 1 1 0]\n",
      " [0 0 0 0 0 0 1 1 1 1 1 1 1 1 1 1]\n",
      " [0 0 0 0 0 1 1 1 1 1 1 1 1 1 1 1]\n",
      " [0 0 0 0 0 1 1 1 0 0 0 0 1 1 1 1]\n",
      " [0 0 0 0 1 1 1 1 0 0 0 0 0 1 1 1]\n",
      " [0 0 0 0 1 1 1 1 0 0 0 0 0 0 1 1]\n",
      " [0 0 0 0 1 1 1 1 0 0 0 0 0 0 1 1]\n",
      " [0 0 0 0 1 1 1 0 0 0 0 0 0 1 1 1]\n",
      " [0 0 0 0 1 1 1 0 0 0 0 0 0 1 1 1]\n",
      " [0 0 0 0 1 1 1 0 0 0 0 0 1 1 1 1]\n",
      " [0 0 0 0 1 1 0 0 0 1 1 1 1 1 1 1]\n",
      " [0 1 0 0 1 1 0 0 0 1 1 1 1 1 1 0]\n",
      " [1 1 1 1 1 1 1 1 1 1 1 1 1 1 1 0]\n",
      " [1 1 1 1 1 1 1 1 1 1 1 1 1 0 0 0]\n",
      " [0 1 1 1 1 1 1 1 1 1 1 0 0 0 0 0]\n",
      " [0 1 1 1 1 1 1 1 1 1 1 0 0 0 0 0]]\n",
      "[[0 0 1 1 0 0 0 0 0 0 0 0 0 0 0 0]\n",
      " [0 1 1 1 1 1 1 1 1 1 1 1 1 1 1 1]\n",
      " [0 1 1 1 1 1 1 1 1 1 1 1 1 1 1 1]\n",
      " [0 1 1 1 1 1 1 1 1 1 1 1 1 1 1 1]\n",
      " [0 1 1 1 1 1 1 1 1 1 1 1 1 1 1 1]\n",
      " [0 1 1 1 1 1 1 1 1 1 1 0 0 0 0 0]\n",
      " [0 1 1 1 0 0 0 0 0 0 0 0 0 0 0 0]\n",
      " [0 1 1 1 0 0 0 0 0 0 1 1 0 0 0 0]\n",
      " [0 1 1 1 1 1 1 1 1 1 1 1 1 0 0 0]\n",
      " [0 1 1 1 1 1 1 1 1 1 1 1 1 1 0 0]\n",
      " [0 1 1 1 1 1 1 1 1 1 1 1 1 0 0 0]\n",
      " [0 1 1 1 1 1 1 1 1 1 1 1 1 0 0 0]\n",
      " [0 1 1 1 0 0 0 0 1 0 0 1 1 0 0 0]\n",
      " [0 1 1 0 0 0 0 0 0 0 0 0 0 0 0 0]\n",
      " [0 1 1 0 0 0 0 0 0 0 0 0 0 0 0 0]\n",
      " [0 1 1 0 0 0 0 0 0 0 0 0 0 0 0 0]\n",
      " [1 1 1 1 0 0 1 1 1 1 1 1 0 0 0 0]\n",
      " [1 1 1 1 1 1 1 1 1 1 1 1 0 0 0 0]\n",
      " [1 1 1 1 1 1 1 1 1 1 1 1 0 0 0 0]\n",
      " [1 1 1 1 1 1 1 1 1 1 1 1 0 0 0 0]]\n",
      "[[0 0 0 0 1 1 1 1 1 1 1 1 0 0 0 0]\n",
      " [0 0 1 1 1 1 1 1 1 1 1 1 1 1 1 0]\n",
      " [0 1 1 1 1 1 1 1 0 1 1 1 1 1 1 1]\n",
      " [0 1 1 1 1 0 0 0 0 0 0 1 1 1 1 1]\n",
      " [1 1 1 0 0 0 0 0 0 0 0 0 0 0 0 1]\n",
      " [0 1 1 1 0 0 0 0 0 0 0 0 0 0 0 1]\n",
      " [0 0 1 1 0 0 0 0 0 0 0 0 0 0 0 1]\n",
      " [0 1 1 1 0 0 0 0 0 0 0 0 0 0 0 0]\n",
      " [0 1 1 1 1 0 0 0 0 0 0 0 0 0 0 0]\n",
      " [0 1 1 1 1 0 1 0 0 0 0 0 0 0 0 0]\n",
      " [0 1 1 1 1 1 1 1 1 1 1 1 1 0 0 0]\n",
      " [0 0 1 1 1 0 0 1 1 1 1 1 1 1 1 1]\n",
      " [0 0 1 1 1 0 0 0 1 1 1 1 1 1 1 1]\n",
      " [0 0 1 1 1 1 0 0 0 0 0 0 0 0 0 0]\n",
      " [0 0 0 1 1 1 0 0 0 0 0 0 0 0 0 0]\n",
      " [0 0 0 1 1 1 0 0 0 0 0 0 0 0 0 0]\n",
      " [0 0 0 1 1 1 0 0 0 0 0 0 0 0 0 0]\n",
      " [0 0 0 0 1 1 0 0 0 0 0 0 0 0 0 0]\n",
      " [0 0 0 0 1 1 0 0 0 0 0 0 0 0 0 0]\n",
      " [0 0 0 0 1 1 0 0 0 0 0 0 0 0 0 0]]\n",
      "[[0 0 0 0 0 0 0 0 0 0 0 0 1 0 0 0]\n",
      " [0 0 0 0 0 0 0 1 1 1 1 1 1 1 1 0]\n",
      " [0 0 0 0 0 0 1 1 1 1 0 0 1 1 1 0]\n",
      " [0 0 0 0 1 1 1 1 0 0 0 1 1 1 1 0]\n",
      " [0 0 0 1 1 1 0 0 0 0 0 0 0 0 0 0]\n",
      " [0 0 1 1 1 1 0 0 0 0 0 0 0 0 0 0]\n",
      " [0 1 1 1 0 0 0 0 0 0 0 0 0 0 0 0]\n",
      " [0 1 1 0 0 0 0 0 0 0 0 0 0 0 0 0]\n",
      " [0 1 1 0 0 0 0 0 0 0 0 0 0 0 0 0]\n",
      " [1 1 0 0 0 0 0 0 0 0 0 0 0 0 0 0]\n",
      " [1 1 0 0 0 0 0 0 0 0 0 0 0 0 0 0]\n",
      " [1 1 0 0 1 1 1 1 1 1 1 0 0 0 0 0]\n",
      " [1 0 0 0 1 1 1 1 1 1 1 1 0 0 0 0]\n",
      " [1 1 0 0 1 1 1 0 0 1 1 1 1 1 0 0]\n",
      " [1 1 0 0 1 1 1 1 1 1 1 1 1 1 1 0]\n",
      " [1 1 0 0 0 0 0 0 0 1 1 1 1 1 1 1]\n",
      " [0 1 1 0 0 0 0 0 0 0 0 0 0 1 1 1]\n",
      " [0 1 1 1 0 0 0 0 0 0 0 0 0 1 1 0]\n",
      " [0 1 1 1 1 1 0 0 0 0 0 1 1 1 1 0]\n",
      " [0 0 0 1 1 1 1 1 1 0 1 1 1 1 0 0]]\n",
      "[[1 1 0 0 0 0 0 0 0 1 1 1 0 0 0 0]\n",
      " [0 1 0 0 0 0 0 0 0 0 1 1 0 0 0 0]\n",
      " [1 1 1 0 0 0 0 0 0 0 1 1 0 0 0 0]\n",
      " [1 1 1 0 0 0 0 0 0 0 1 1 0 0 0 0]\n",
      " [1 1 1 0 0 0 0 0 0 0 1 1 1 0 0 0]\n",
      " [1 1 1 0 0 0 0 0 0 0 1 1 1 1 0 0]\n",
      " [1 1 1 1 0 0 0 0 0 0 1 1 1 1 0 0]\n",
      " [1 1 1 1 0 0 0 0 0 0 1 1 1 1 0 0]\n",
      " [0 1 1 1 0 0 0 0 0 0 0 1 1 1 0 0]\n",
      " [0 1 1 1 1 1 1 1 1 1 0 1 1 1 1 0]\n",
      " [0 1 1 1 1 1 1 1 1 1 1 0 1 1 1 0]\n",
      " [0 1 1 1 1 1 1 1 1 1 1 0 1 1 1 1]\n",
      " [1 1 1 1 1 1 1 1 1 1 0 0 1 1 1 1]\n",
      " [0 1 1 1 1 0 0 0 0 0 0 0 0 1 1 1]\n",
      " [0 1 1 1 1 0 0 0 0 0 0 0 0 1 1 1]\n",
      " [0 1 1 1 1 0 0 0 0 0 0 0 0 1 1 1]\n",
      " [0 0 1 1 1 0 0 0 0 0 0 0 0 0 1 1]\n",
      " [0 0 1 1 1 0 0 0 0 0 0 0 0 0 1 1]\n",
      " [0 0 1 1 1 0 0 0 0 0 0 0 0 0 1 1]\n",
      " [0 0 1 1 1 0 0 0 0 0 0 0 0 0 1 1]]\n",
      "[[0 0 0 0 0 0 0 1 1 1 1 1 1 0 0 0]\n",
      " [0 1 1 1 1 1 1 1 1 1 1 1 1 1 1 0]\n",
      " [0 1 1 1 1 1 1 1 1 1 1 1 1 1 1 0]\n",
      " [1 1 1 1 0 1 1 1 1 1 0 0 0 0 0 0]\n",
      " [1 1 1 0 0 0 1 1 1 1 0 0 0 0 0 0]\n",
      " [0 0 0 0 0 0 1 1 1 1 0 0 0 0 0 0]\n",
      " [0 0 0 0 0 0 1 1 1 1 0 0 0 0 0 0]\n",
      " [0 0 0 0 0 0 1 1 1 1 0 0 0 0 0 0]\n",
      " [0 0 0 0 0 0 1 1 1 1 0 0 0 0 0 0]\n",
      " [0 0 0 0 0 0 1 1 1 1 0 0 0 0 0 0]\n",
      " [0 0 0 0 0 0 1 1 1 0 0 0 0 0 0 0]\n",
      " [0 0 0 0 0 0 1 1 1 1 0 0 0 0 0 0]\n",
      " [0 0 0 0 0 0 1 1 1 0 0 0 0 0 0 0]\n",
      " [0 0 0 0 0 0 1 1 1 0 0 0 0 0 0 0]\n",
      " [0 0 0 0 0 0 1 1 1 0 0 0 0 0 0 0]\n",
      " [0 0 0 0 0 0 1 1 1 0 0 0 0 0 0 0]\n",
      " [0 0 0 0 0 0 1 1 1 1 1 1 1 1 1 1]\n",
      " [0 0 0 0 0 0 1 1 1 1 1 1 1 1 1 1]\n",
      " [0 1 1 1 1 1 1 1 1 1 1 1 1 1 1 1]\n",
      " [0 1 1 1 1 1 1 1 1 1 1 1 1 1 0 0]]\n",
      "[[0 0 0 0 0 0 0 0 0 0 0 0 0 0 0 0]\n",
      " [0 0 0 0 0 0 0 0 0 0 0 0 1 1 1 1]\n",
      " [0 0 0 0 0 0 0 0 1 1 1 1 1 1 1 1]\n",
      " [0 0 0 0 0 1 1 1 1 1 1 1 0 0 0 0]\n",
      " [0 0 0 0 0 1 1 1 0 1 0 0 0 0 0 0]\n",
      " [0 0 0 0 0 0 0 0 0 1 1 0 0 0 0 0]\n",
      " [0 0 0 0 0 0 0 0 0 1 1 0 0 0 0 0]\n",
      " [0 0 0 0 0 0 0 0 0 1 1 1 0 0 0 0]\n",
      " [0 0 0 0 0 0 0 0 0 0 1 1 0 0 0 0]\n",
      " [0 0 0 0 0 0 0 0 0 0 1 1 0 0 0 0]\n",
      " [0 0 0 0 0 0 0 0 0 0 0 1 0 0 0 0]\n",
      " [0 0 0 0 0 0 0 0 0 0 0 1 0 0 0 0]\n",
      " [0 1 1 0 0 0 0 0 0 0 0 1 0 0 0 0]\n",
      " [1 1 0 0 0 0 0 0 0 0 0 1 1 0 0 0]\n",
      " [1 0 0 0 0 0 0 0 0 0 0 1 0 0 0 0]\n",
      " [1 0 0 0 0 0 0 0 0 0 1 1 0 0 0 0]\n",
      " [1 1 0 0 0 0 0 0 0 0 1 1 0 0 0 0]\n",
      " [0 1 1 0 0 0 0 0 0 1 1 1 0 0 0 0]\n",
      " [0 1 1 1 0 0 0 1 1 1 1 0 0 0 0 0]\n",
      " [0 0 1 1 1 1 1 1 1 0 0 0 0 0 0 0]]\n",
      "[[1 1 0 0 0 0 0 0 0 0 0 0 0 0 0 1]\n",
      " [1 1 1 0 0 0 0 0 0 0 0 0 0 1 1 1]\n",
      " [1 1 1 0 0 0 0 0 0 0 0 0 1 1 1 1]\n",
      " [1 1 1 0 0 0 0 0 0 0 1 1 1 1 1 1]\n",
      " [1 1 1 0 0 0 0 0 0 1 1 1 1 1 1 1]\n",
      " [1 1 1 0 0 0 0 1 1 1 1 1 1 1 1 0]\n",
      " [1 1 1 0 0 1 1 1 1 1 1 1 1 1 0 0]\n",
      " [1 1 1 1 1 1 1 1 1 1 1 0 0 0 0 0]\n",
      " [1 1 1 1 1 1 1 1 1 0 0 0 0 0 0 0]\n",
      " [1 1 1 1 1 1 1 1 0 0 0 0 0 0 0 0]\n",
      " [1 1 1 1 1 1 1 1 0 0 0 0 0 0 0 0]\n",
      " [1 1 1 0 1 1 1 1 1 0 0 0 0 0 0 0]\n",
      " [1 1 1 0 0 1 1 1 1 1 0 0 0 0 0 0]\n",
      " [1 1 1 0 0 0 1 1 1 1 1 0 0 0 0 0]\n",
      " [1 1 1 0 0 0 0 1 1 1 1 1 0 0 0 0]\n",
      " [1 1 1 0 0 0 0 0 1 1 1 1 1 0 0 0]\n",
      " [1 1 1 0 0 0 0 0 0 1 1 1 1 1 0 0]\n",
      " [1 1 1 0 0 0 0 0 0 1 1 1 1 1 1 0]\n",
      " [1 1 1 1 0 0 0 0 0 0 1 1 1 1 1 1]\n",
      " [1 1 1 1 0 0 0 0 0 0 0 1 1 1 1 1]]\n",
      "[[0 0 0 0 0 0 0 0 0 0 0 0 0 0 1 1]\n",
      " [0 0 0 0 0 0 0 0 0 0 0 0 1 1 1 1]\n",
      " [0 0 0 0 0 0 0 0 0 0 0 0 1 1 1 1]\n",
      " [0 0 0 0 0 0 0 0 0 0 0 1 1 1 1 0]\n",
      " [0 0 0 0 0 0 0 0 0 0 1 1 1 1 1 0]\n",
      " [0 0 0 0 0 0 0 0 0 0 1 1 1 1 0 0]\n",
      " [0 0 0 0 0 0 0 0 1 1 1 1 1 0 0 0]\n",
      " [0 0 0 0 0 0 0 1 1 1 1 1 0 0 0 0]\n",
      " [0 0 0 0 0 0 1 1 1 1 1 1 0 0 0 0]\n",
      " [0 0 0 0 0 1 1 1 1 1 1 1 0 0 0 0]\n",
      " [0 0 0 0 0 1 1 1 1 1 0 0 0 0 0 0]\n",
      " [0 0 0 1 1 1 1 1 0 0 0 0 0 0 0 0]\n",
      " [0 0 0 1 1 1 1 1 0 0 0 0 0 0 0 0]\n",
      " [0 0 0 1 1 1 1 0 0 0 0 0 0 0 0 0]\n",
      " [0 0 1 1 1 1 1 0 0 0 0 0 0 0 0 0]\n",
      " [0 1 1 1 1 0 0 0 0 0 0 0 0 0 0 0]\n",
      " [0 1 1 1 1 0 0 0 0 0 0 0 0 0 0 0]\n",
      " [1 1 1 1 1 1 1 1 1 1 0 0 0 0 0 0]\n",
      " [1 1 1 1 1 1 1 1 1 1 1 1 1 1 1 1]\n",
      " [1 1 1 1 1 1 1 1 1 1 1 1 1 1 1 1]]\n",
      "[[0 0 0 0 0 0 0 0 0 0 0 0 0 1 1 0]\n",
      " [0 1 1 0 0 0 0 0 0 0 0 0 0 1 1 1]\n",
      " [1 1 1 1 0 0 0 0 0 0 0 0 0 1 1 1]\n",
      " [1 1 1 1 0 0 0 0 0 0 0 0 1 1 1 1]\n",
      " [1 1 1 1 0 0 0 0 0 0 0 0 1 1 1 1]\n",
      " [1 1 1 1 0 0 0 0 0 0 0 0 1 1 1 1]\n",
      " [0 1 1 1 0 0 0 0 0 1 1 1 1 1 1 1]\n",
      " [0 1 1 1 1 0 0 1 1 1 1 1 1 1 1 1]\n",
      " [0 1 1 1 1 1 1 1 1 1 1 1 1 1 1 1]\n",
      " [0 1 1 1 1 1 1 1 1 1 1 1 1 1 1 1]\n",
      " [0 1 1 1 1 1 1 1 1 1 0 0 0 1 1 1]\n",
      " [0 1 1 1 1 1 1 1 1 0 0 0 0 1 1 1]\n",
      " [0 1 1 1 1 1 1 1 0 0 0 0 0 1 1 1]\n",
      " [0 1 1 1 0 0 0 0 0 0 0 0 0 1 1 1]\n",
      " [0 1 1 1 1 0 0 0 0 0 0 0 0 1 1 1]\n",
      " [0 1 1 1 1 0 0 0 0 0 0 0 0 1 1 1]\n",
      " [0 1 1 1 0 0 0 0 0 0 0 0 0 1 1 1]\n",
      " [0 1 1 1 0 0 0 0 0 0 0 0 0 1 1 1]\n",
      " [0 1 1 1 0 0 0 0 0 0 0 0 0 1 1 1]\n",
      " [0 1 1 1 0 0 0 0 0 0 0 0 0 1 1 1]]\n",
      "[[0 0 0 0 0 0 0 0 0 0 0 0 1 1 1 0]\n",
      " [1 1 0 1 0 0 0 0 0 0 0 0 0 1 1 1]\n",
      " [1 1 1 1 1 0 0 0 0 0 0 0 0 1 1 1]\n",
      " [1 1 1 1 1 1 0 0 0 0 0 0 0 1 1 1]\n",
      " [1 1 1 1 1 1 1 0 0 0 0 0 0 1 1 1]\n",
      " [1 1 1 1 1 1 1 1 0 0 0 0 0 1 1 1]\n",
      " [1 1 1 0 1 1 1 1 0 0 0 0 0 1 1 1]\n",
      " [1 1 1 0 0 1 1 1 1 0 0 0 0 1 1 1]\n",
      " [1 1 1 0 0 0 1 1 1 1 0 0 0 1 1 1]\n",
      " [0 1 1 0 0 0 1 1 1 1 0 0 0 1 1 1]\n",
      " [0 1 1 0 0 0 0 1 1 1 1 0 0 1 1 1]\n",
      " [0 1 1 0 0 0 0 0 1 1 1 1 0 1 1 1]\n",
      " [0 1 1 0 0 0 0 0 0 1 1 1 0 0 1 1]\n",
      " [0 1 1 0 0 0 0 0 0 1 1 1 1 0 1 1]\n",
      " [0 1 1 0 0 0 0 0 0 0 1 1 1 1 1 1]\n",
      " [0 1 1 0 0 0 0 0 0 0 1 1 1 1 1 1]\n",
      " [0 1 1 0 0 0 0 0 0 0 0 1 1 1 1 1]\n",
      " [0 1 1 0 0 0 0 0 0 0 0 0 1 1 1 1]\n",
      " [0 1 1 0 0 0 0 0 0 0 0 0 1 1 1 1]\n",
      " [0 1 1 0 0 0 0 0 0 0 0 0 1 1 1 1]]\n",
      "[[0 0 0 0 0 1 1 1 0 0 0 0 0 0 0 0]\n",
      " [0 0 0 0 1 1 1 1 1 1 0 0 0 0 0 0]\n",
      " [0 0 1 1 1 0 0 0 0 1 1 0 0 0 0 0]\n",
      " [0 1 1 1 0 0 0 0 0 1 1 0 0 0 0 0]\n",
      " [0 1 1 0 1 1 1 0 0 1 1 0 0 0 0 0]\n",
      " [1 1 0 0 1 1 1 1 1 1 1 0 0 0 0 0]\n",
      " [1 1 0 0 0 0 1 1 1 1 1 0 0 0 0 0]\n",
      " [1 1 0 0 0 0 0 0 0 1 1 1 1 0 0 0]\n",
      " [1 1 0 0 0 0 0 0 0 1 1 1 1 0 0 0]\n",
      " [1 1 0 0 0 0 0 0 0 0 0 1 1 1 0 0]\n",
      " [1 1 0 0 0 0 0 0 0 0 0 0 0 1 0 0]\n",
      " [1 1 0 0 0 0 0 0 0 0 0 0 0 1 1 1]\n",
      " [0 1 1 0 0 0 0 0 0 0 0 0 0 0 1 1]\n",
      " [0 1 1 1 0 0 0 0 0 0 0 0 0 0 0 1]\n",
      " [0 1 1 1 0 0 0 0 0 0 0 0 0 0 0 1]\n",
      " [0 0 1 1 1 0 0 0 0 0 0 0 0 0 0 1]\n",
      " [0 0 1 1 1 1 0 0 0 0 0 0 0 0 0 1]\n",
      " [0 0 0 0 1 1 1 1 0 0 0 0 0 0 0 1]\n",
      " [0 0 0 0 1 1 1 1 1 0 0 0 0 0 0 1]\n",
      " [0 0 0 0 0 0 1 1 1 1 1 1 1 1 1 1]]\n",
      "[[0 0 0 0 0 0 0 0 0 0 1 1 1 1 1 0]\n",
      " [0 0 0 0 0 0 0 1 1 1 1 1 1 1 1 1]\n",
      " [0 0 0 0 0 0 0 1 1 1 1 0 0 0 1 1]\n",
      " [0 0 0 0 0 1 1 1 1 1 0 0 0 0 1 1]\n",
      " [0 0 0 0 0 1 1 1 0 0 0 0 0 0 1 1]\n",
      " [0 0 0 0 1 1 1 0 0 0 0 0 0 0 1 1]\n",
      " [0 0 0 0 1 1 0 0 0 0 0 0 0 0 1 1]\n",
      " [0 0 0 1 1 1 0 0 0 0 0 0 0 1 1 1]\n",
      " [0 0 0 1 1 0 0 0 0 0 0 0 1 1 1 1]\n",
      " [0 0 1 1 1 0 0 0 0 0 0 0 1 1 1 0]\n",
      " [0 0 1 1 1 0 0 0 0 0 1 1 1 1 0 0]\n",
      " [0 0 1 1 1 0 0 0 1 1 1 1 1 0 0 0]\n",
      " [0 1 1 1 0 0 0 1 1 1 0 0 0 0 0 0]\n",
      " [0 1 1 1 0 0 0 0 0 0 0 0 0 0 0 0]\n",
      " [0 1 1 1 0 0 0 0 0 0 0 0 0 0 0 0]\n",
      " [0 1 1 1 0 0 0 0 0 0 0 0 0 0 0 0]\n",
      " [0 1 1 1 0 0 0 0 0 0 0 0 0 0 0 0]\n",
      " [1 1 1 1 0 0 0 0 0 0 0 0 0 0 0 0]\n",
      " [1 1 1 1 0 0 0 0 0 0 0 0 0 0 0 0]\n",
      " [1 1 1 0 0 0 0 0 0 0 0 0 0 0 0 0]]\n",
      "[[0 0 0 0 0 0 1 0 0 0 0 0 0 0 0 0]\n",
      " [0 0 0 0 1 1 1 1 1 1 0 0 0 0 0 0]\n",
      " [0 0 0 1 1 1 1 0 1 1 1 1 1 0 0 0]\n",
      " [0 1 1 1 1 0 1 0 0 0 0 1 1 1 0 0]\n",
      " [1 1 1 0 0 0 0 0 0 0 0 0 1 1 1 0]\n",
      " [1 1 1 0 0 0 0 0 0 0 0 0 0 1 1 0]\n",
      " [1 1 0 0 0 0 0 0 0 0 0 0 0 0 1 1]\n",
      " [1 0 0 0 0 0 0 0 0 0 0 0 0 0 1 1]\n",
      " [1 0 0 0 0 0 0 0 0 0 0 0 0 0 1 1]\n",
      " [1 0 0 0 0 0 0 0 0 0 0 1 0 0 1 1]\n",
      " [1 0 0 0 0 0 0 0 0 0 1 1 0 0 1 1]\n",
      " [1 0 0 0 0 0 0 0 0 0 1 1 0 0 0 1]\n",
      " [1 1 1 0 0 0 0 0 0 0 0 1 1 0 1 1]\n",
      " [1 1 1 1 0 0 0 0 0 0 0 1 1 0 1 1]\n",
      " [0 1 1 1 1 1 1 1 0 0 0 1 1 1 1 1]\n",
      " [0 0 0 1 1 1 1 1 1 1 1 1 1 1 1 0]\n",
      " [0 0 0 0 0 1 1 0 1 1 1 1 1 1 0 0]\n",
      " [0 0 0 0 0 0 0 0 0 0 0 0 0 1 1 0]\n",
      " [0 0 0 0 0 0 0 0 0 0 0 0 0 1 1 0]\n",
      " [0 0 0 0 0 0 0 0 0 0 0 0 0 0 1 1]]\n",
      "[[0 0 0 0 0 1 1 1 0 0 0 0 0 0 0 0]\n",
      " [0 0 0 1 1 1 1 1 1 1 1 1 0 0 0 0]\n",
      " [0 0 1 1 1 1 1 1 1 1 1 1 1 1 0 0]\n",
      " [0 0 1 1 1 0 0 0 0 0 1 1 1 1 1 0]\n",
      " [0 0 1 1 1 0 0 0 0 0 0 0 1 1 1 1]\n",
      " [0 0 1 1 0 0 0 0 0 0 0 0 0 1 1 1]\n",
      " [0 0 1 1 0 0 0 0 0 0 0 0 0 0 1 1]\n",
      " [1 1 1 1 0 0 0 0 0 0 0 0 0 1 1 1]\n",
      " [0 1 1 1 1 1 1 1 1 1 1 1 1 1 1 1]\n",
      " [0 1 1 1 1 1 1 1 1 1 1 1 1 0 0 0]\n",
      " [0 1 1 1 0 0 0 0 0 0 0 0 0 0 0 0]\n",
      " [1 1 1 1 1 0 0 0 0 0 0 0 0 0 0 0]\n",
      " [1 1 1 1 1 1 1 0 0 0 0 0 0 0 0 0]\n",
      " [1 1 1 1 1 1 1 1 0 0 0 0 0 0 0 0]\n",
      " [1 1 1 0 1 1 1 1 1 0 0 0 0 0 0 0]\n",
      " [0 1 1 0 0 1 1 1 1 1 0 0 0 0 0 0]\n",
      " [0 1 1 0 0 0 1 1 1 1 1 1 0 0 0 0]\n",
      " [0 1 1 0 0 0 0 0 1 1 1 1 1 0 0 0]\n",
      " [0 1 1 0 0 0 0 0 0 1 1 1 1 1 1 0]\n",
      " [0 0 0 0 0 0 0 0 0 0 1 1 1 1 1 0]]\n",
      "[[0 0 0 0 0 0 0 1 1 1 1 1 1 1 1 0]\n",
      " [0 0 0 0 1 1 1 1 1 1 1 1 1 1 1 1]\n",
      " [0 0 0 1 1 1 1 1 1 1 1 1 1 1 1 1]\n",
      " [0 0 1 1 1 1 1 1 1 1 0 0 1 1 1 1]\n",
      " [0 0 1 1 1 0 0 0 0 0 0 0 0 0 1 1]\n",
      " [0 0 1 1 1 0 0 0 0 0 0 0 0 0 1 1]\n",
      " [0 0 0 1 1 1 1 0 0 0 0 0 0 0 0 0]\n",
      " [0 0 0 1 1 1 1 1 1 0 0 0 0 0 0 0]\n",
      " [0 0 0 0 0 1 1 1 1 1 0 0 0 0 0 0]\n",
      " [0 0 0 0 0 1 1 1 1 1 1 0 0 0 0 0]\n",
      " [0 0 0 0 0 0 0 1 1 1 1 1 0 0 0 0]\n",
      " [0 0 0 0 0 0 0 0 1 1 1 1 1 1 0 0]\n",
      " [0 0 0 0 0 0 0 0 0 1 1 1 1 1 0 0]\n",
      " [0 0 0 0 0 0 0 0 0 0 1 1 1 1 0 0]\n",
      " [0 0 0 0 0 0 0 0 0 0 0 1 1 1 1 1]\n",
      " [0 0 0 0 0 0 0 0 0 0 0 0 1 1 1 1]\n",
      " [0 0 0 0 0 0 0 0 0 0 0 1 1 1 1 1]\n",
      " [1 1 1 0 0 0 0 1 1 1 1 1 1 1 1 0]\n",
      " [1 1 1 1 1 1 1 1 1 1 1 1 1 1 0 0]\n",
      " [1 1 1 1 1 1 1 1 1 1 1 1 0 0 0 0]]\n",
      "[[1 1 1 0 0 0 0 0 0 0 0 0 0 0 0 0]\n",
      " [1 1 1 1 1 1 1 1 1 1 1 1 1 1 1 1]\n",
      " [1 1 1 1 1 1 1 1 1 1 1 1 1 1 1 1]\n",
      " [0 0 0 0 0 1 1 1 1 1 1 1 1 1 1 1]\n",
      " [0 0 0 0 0 0 1 1 1 0 0 0 0 0 0 0]\n",
      " [0 0 0 0 0 1 1 1 1 0 0 0 0 0 0 0]\n",
      " [0 0 0 0 0 1 1 1 1 0 0 0 0 0 0 0]\n",
      " [0 0 0 0 1 1 1 1 1 0 0 0 0 0 0 0]\n",
      " [0 0 0 0 1 1 1 1 0 0 0 0 0 0 0 0]\n",
      " [0 0 0 1 1 1 1 1 0 0 0 0 0 0 0 0]\n",
      " [0 0 0 1 1 1 1 1 0 0 0 0 0 0 0 0]\n",
      " [0 0 0 1 1 1 1 1 0 0 0 0 0 0 0 0]\n",
      " [0 0 1 1 1 1 1 0 0 0 0 0 0 0 0 0]\n",
      " [0 0 1 1 1 1 1 0 0 0 0 0 0 0 0 0]\n",
      " [0 1 1 1 1 1 1 0 0 0 0 0 0 0 0 0]\n",
      " [0 1 1 1 1 1 0 0 0 0 0 0 0 0 0 0]\n",
      " [0 1 1 1 1 1 0 0 0 0 0 0 0 0 0 0]\n",
      " [0 1 1 1 1 0 0 0 0 0 0 0 0 0 0 0]\n",
      " [0 1 1 1 1 0 0 0 0 0 0 0 0 0 0 0]\n",
      " [0 1 1 1 0 0 0 0 0 0 0 0 0 0 0 0]]\n",
      "[[0 0 0 0 0 0 0 1 1 0 0 0 0 0 0 0]\n",
      " [0 0 0 0 0 0 1 1 1 0 0 0 0 0 0 0]\n",
      " [0 0 0 0 0 0 1 1 1 0 0 0 0 0 0 0]\n",
      " [0 0 0 0 0 1 1 1 1 0 0 0 0 0 0 1]\n",
      " [0 0 0 0 1 1 1 1 1 0 0 0 0 0 1 1]\n",
      " [0 0 0 1 1 1 1 1 0 0 0 0 0 0 1 1]\n",
      " [0 0 1 1 1 1 1 1 0 0 0 0 0 1 1 1]\n",
      " [0 0 1 1 1 1 0 0 0 0 0 0 0 1 1 1]\n",
      " [0 0 1 1 1 0 0 0 0 0 0 0 0 1 1 1]\n",
      " [0 1 1 1 0 0 0 0 0 0 0 0 0 1 1 1]\n",
      " [0 1 1 1 0 0 0 0 0 0 0 0 1 1 1 0]\n",
      " [0 1 1 1 0 0 0 0 0 0 0 1 1 1 1 0]\n",
      " [0 1 1 0 0 0 0 0 0 0 0 1 1 1 1 0]\n",
      " [1 1 0 0 0 0 0 0 0 0 1 1 1 1 0 0]\n",
      " [1 1 0 0 0 0 0 0 0 1 1 1 1 1 0 0]\n",
      " [1 1 0 0 0 0 0 0 0 1 1 1 1 0 0 0]\n",
      " [1 1 0 0 0 0 0 0 1 1 1 1 1 0 0 0]\n",
      " [1 1 1 1 1 1 1 1 1 1 1 1 0 0 0 0]\n",
      " [1 1 1 1 1 1 1 1 1 1 1 0 0 0 0 0]\n",
      " [0 1 1 1 1 1 1 1 1 1 0 0 0 0 0 0]]\n",
      "[[0 0 0 0 0 0 0 0 0 0 0 0 0 0 1 1]\n",
      " [0 0 0 0 0 0 0 0 0 0 0 0 0 1 1 1]\n",
      " [1 1 1 1 0 0 0 0 0 0 0 1 1 1 1 1]\n",
      " [1 1 1 1 0 0 0 0 0 0 0 1 1 1 1 1]\n",
      " [1 1 1 1 1 0 0 0 0 0 1 1 1 1 1 1]\n",
      " [1 1 1 1 1 0 0 0 0 0 1 1 1 1 1 1]\n",
      " [0 1 1 1 1 1 0 0 0 1 1 1 1 1 1 0]\n",
      " [0 1 1 1 1 1 0 0 0 1 1 1 1 1 1 0]\n",
      " [0 1 1 1 1 1 1 0 1 1 1 1 1 1 0 0]\n",
      " [0 1 1 1 1 1 1 1 1 1 1 1 1 0 0 0]\n",
      " [0 0 1 1 1 1 1 1 1 1 1 1 1 0 0 0]\n",
      " [0 0 1 1 1 1 1 1 1 1 1 1 1 0 0 0]\n",
      " [0 0 0 1 1 1 1 1 1 1 1 1 0 0 0 0]\n",
      " [0 0 0 1 1 1 1 1 1 1 1 1 0 0 0 0]\n",
      " [0 0 0 0 1 1 1 1 1 1 1 0 0 0 0 0]\n",
      " [0 0 0 0 1 1 1 1 1 1 1 0 0 0 0 0]\n",
      " [0 0 0 0 0 1 1 1 1 1 0 0 0 0 0 0]\n",
      " [0 0 0 0 0 1 1 1 1 1 0 0 0 0 0 0]\n",
      " [0 0 0 0 0 1 1 1 1 1 0 0 0 0 0 0]\n",
      " [0 0 0 0 0 0 1 1 1 0 0 0 0 0 0 0]]\n",
      "[[0 0 0 0 0 0 0 0 0 0 0 0 0 0 1 1]\n",
      " [1 1 1 0 0 0 0 0 0 0 0 0 0 0 1 1]\n",
      " [1 1 1 0 0 0 0 0 0 0 0 0 0 0 1 1]\n",
      " [1 1 1 0 0 0 0 0 0 0 0 0 0 0 1 1]\n",
      " [0 1 1 0 0 0 0 0 0 0 0 0 0 0 1 1]\n",
      " [0 1 1 1 0 0 0 0 0 0 0 0 0 0 1 1]\n",
      " [0 0 1 1 0 0 0 0 0 0 0 0 0 0 1 1]\n",
      " [0 0 1 1 0 0 0 0 0 0 0 0 0 0 1 1]\n",
      " [0 0 1 1 1 0 0 0 0 0 0 0 0 0 0 1]\n",
      " [0 0 1 1 1 0 0 0 0 0 0 0 0 0 0 1]\n",
      " [0 0 1 1 1 0 0 0 1 1 0 0 0 0 0 1]\n",
      " [0 0 0 1 1 0 0 1 1 1 1 1 1 1 1 1]\n",
      " [0 0 0 1 1 1 1 1 1 1 1 1 1 1 1 1]\n",
      " [0 0 0 1 1 1 1 1 1 1 1 1 1 1 1 1]\n",
      " [0 0 0 0 1 1 1 1 1 0 0 0 1 1 1 1]\n",
      " [0 0 0 0 1 1 1 1 0 0 0 0 0 0 1 1]\n",
      " [0 0 0 0 0 1 1 1 0 0 0 0 0 0 1 1]\n",
      " [0 0 0 0 0 1 1 1 0 0 0 0 0 0 0 1]\n",
      " [0 0 0 0 0 1 1 1 0 0 0 0 0 0 0 0]\n",
      " [0 0 0 0 0 1 1 1 0 0 0 0 0 0 0 0]]\n",
      "[[0 0 0 0 0 0 0 0 0 0 0 1 1 0 0 0]\n",
      " [1 1 0 0 0 0 0 0 0 0 0 1 1 0 0 0]\n",
      " [1 1 1 0 0 0 0 0 0 0 1 1 1 0 0 0]\n",
      " [1 1 1 0 0 0 0 0 0 0 1 1 1 0 0 0]\n",
      " [0 1 1 1 0 0 0 0 0 0 1 1 1 0 0 0]\n",
      " [0 1 1 1 0 0 0 0 0 1 1 1 0 0 0 0]\n",
      " [0 0 1 1 1 0 0 0 0 1 1 1 0 0 0 0]\n",
      " [0 0 0 1 1 1 0 0 0 1 1 1 0 0 0 0]\n",
      " [0 0 0 1 1 1 1 0 0 1 1 1 0 0 0 0]\n",
      " [0 0 0 0 1 1 1 1 1 1 1 0 0 0 0 0]\n",
      " [0 0 0 0 1 1 1 1 1 1 1 0 0 0 0 0]\n",
      " [0 0 0 0 0 1 1 1 1 1 0 0 0 0 0 0]\n",
      " [0 0 0 0 0 0 0 1 1 1 0 0 0 0 0 0]\n",
      " [0 0 0 0 0 0 0 1 1 1 1 0 0 0 0 0]\n",
      " [0 0 0 0 0 0 0 1 1 1 1 1 0 0 0 0]\n",
      " [0 0 0 0 0 0 0 1 1 1 1 1 1 0 0 0]\n",
      " [0 0 0 0 0 0 0 1 1 1 1 1 1 1 0 0]\n",
      " [0 0 0 0 0 0 1 1 0 0 1 1 1 1 1 0]\n",
      " [0 0 0 0 0 1 1 1 0 0 0 1 1 1 1 1]\n",
      " [0 0 0 0 0 1 1 1 0 0 0 0 1 1 1 1]]\n",
      "[[0 0 0 0 0 0 0 0 0 0 0 0 0 0 0 1]\n",
      " [1 1 1 0 0 0 0 0 0 0 0 0 0 0 1 1]\n",
      " [1 1 1 1 0 0 0 0 0 0 0 0 0 1 1 1]\n",
      " [0 1 1 1 1 1 0 0 0 0 0 0 0 1 1 1]\n",
      " [0 0 1 1 1 1 1 0 0 0 0 0 0 1 1 1]\n",
      " [0 0 0 0 1 1 1 1 0 0 0 0 0 1 1 1]\n",
      " [0 0 0 0 0 1 1 1 1 0 0 0 1 1 1 1]\n",
      " [0 0 0 0 0 0 0 1 1 1 0 1 1 1 1 0]\n",
      " [0 0 0 0 0 0 0 1 1 1 1 1 1 1 0 0]\n",
      " [0 0 0 0 0 0 0 0 0 1 1 1 1 1 0 0]\n",
      " [0 0 0 0 0 0 0 0 0 0 1 1 1 1 0 0]\n",
      " [0 0 0 0 0 0 0 0 0 0 1 1 1 1 0 0]\n",
      " [0 0 0 0 0 0 0 0 0 1 1 1 1 0 0 0]\n",
      " [0 0 0 0 0 0 0 0 0 1 1 1 0 0 0 0]\n",
      " [0 0 0 0 0 0 0 0 0 1 1 1 0 0 0 0]\n",
      " [0 0 0 0 0 0 0 0 0 1 1 1 0 0 0 0]\n",
      " [0 0 0 0 0 0 0 0 1 1 1 0 0 0 0 0]\n",
      " [0 0 0 0 0 0 0 1 1 1 1 0 0 0 0 0]\n",
      " [0 0 0 0 0 0 0 1 1 1 0 0 0 0 0 0]\n",
      " [0 0 0 0 0 0 1 1 1 0 0 0 0 0 0 0]]\n",
      "[[0 0 0 0 0 0 0 1 0 0 0 0 0 0 0 0]\n",
      " [0 0 0 0 1 1 1 1 1 1 0 0 0 0 0 0]\n",
      " [0 1 1 1 1 1 1 1 1 1 0 0 0 0 0 0]\n",
      " [1 1 1 1 1 0 0 1 1 1 0 0 0 0 0 0]\n",
      " [1 0 0 0 0 0 0 1 1 1 0 0 0 0 0 0]\n",
      " [0 0 0 0 0 0 1 1 1 0 0 0 0 0 0 0]\n",
      " [0 0 0 0 0 0 1 1 1 0 0 0 0 0 0 0]\n",
      " [0 0 0 0 0 1 1 1 0 0 0 0 0 0 0 0]\n",
      " [0 0 0 0 1 1 1 0 0 0 0 0 0 0 0 0]\n",
      " [0 0 0 1 1 1 0 0 0 0 0 0 0 0 0 0]\n",
      " [0 0 1 1 1 0 0 0 0 0 0 0 0 0 0 0]\n",
      " [0 1 1 1 1 0 0 0 0 0 0 0 0 0 0 0]\n",
      " [0 1 1 1 0 0 0 0 0 0 0 0 0 0 0 0]\n",
      " [0 1 1 0 0 0 0 0 0 0 0 0 0 0 0 0]\n",
      " [0 1 1 0 0 0 0 0 0 0 0 0 0 0 0 0]\n",
      " [0 1 1 0 0 0 0 0 0 0 0 0 0 0 0 0]\n",
      " [0 1 1 0 0 0 0 0 0 0 0 0 0 0 0 0]\n",
      " [0 1 1 1 0 0 0 0 0 0 0 0 0 0 1 1]\n",
      " [0 1 1 1 1 1 1 0 0 1 1 1 1 1 1 1]\n",
      " [0 0 0 1 1 1 1 1 1 1 1 1 1 1 1 0]]\n"
     ]
    }
   ],
   "source": [
    "for i in range(nclasses):\n",
    "    print(images[i][0])"
   ]
  },
  {
   "cell_type": "code",
   "execution_count": 17,
   "id": "8d90dba3",
   "metadata": {},
   "outputs": [],
   "source": [
    "f = open('01_binary_alpha_digits.ds', 'w')\n",
    "for i in range(len(images)):\n",
    "    for j in range(len(images[i])):\n",
    "        temp = images[i][j].flatten()\n",
    "        f.write(str(temp).strip('[]').replace('\\n',''))\n",
    "        f.write('\\n')\n",
    "f.close()"
   ]
  },
  {
   "cell_type": "code",
   "execution_count": 18,
   "id": "37afa158",
   "metadata": {},
   "outputs": [],
   "source": [
    "f = open('01_binary_alpha_digits_ground_truth.ds', 'w')\n",
    "for i in range(len(images)):\n",
    "    for j in range(len(images[i])):\n",
    "        f.write(str(i))\n",
    "        f.write('\\n')\n",
    "f.close()"
   ]
  },
  {
   "cell_type": "code",
   "execution_count": 19,
   "id": "8a513956",
   "metadata": {},
   "outputs": [],
   "source": [
    "f = open('02_binary_alpha_digits_0_and_1.ds', 'w')\n",
    "for i in range(2):\n",
    "    for j in range(len(images[i])):\n",
    "        temp = images[i][j].flatten()\n",
    "        f.write(str(temp).strip('[]').replace('\\n',''))\n",
    "        f.write('\\n')\n",
    "f.close()"
   ]
  },
  {
   "cell_type": "code",
   "execution_count": 20,
   "id": "9c409257",
   "metadata": {},
   "outputs": [],
   "source": [
    "f = open('02_binary_alpha_digits_0_and_1_ground_truth.ds', 'w')\n",
    "for i in range(2):\n",
    "    for j in range(len(images[i])):\n",
    "        f.write(str(i))\n",
    "        f.write('\\n')\n",
    "f.close()"
   ]
  },
  {
   "cell_type": "code",
   "execution_count": 21,
   "id": "828a9ab4",
   "metadata": {},
   "outputs": [],
   "source": [
    "f = open('03_binary_alpha_digits_0_and_8.ds', 'w')\n",
    "for i in 0, 8:\n",
    "    for j in range(len(images[i])):\n",
    "        temp = images[i][j].flatten()\n",
    "        f.write(str(temp).strip('[]').replace('\\n',''))\n",
    "        f.write('\\n')\n",
    "f.close()"
   ]
  },
  {
   "cell_type": "code",
   "execution_count": 22,
   "id": "80d58c58",
   "metadata": {},
   "outputs": [],
   "source": [
    "f = open('03_binary_alpha_digits_0_and_8_ground_truth.ds', 'w')\n",
    "for i in 0,8:\n",
    "    for j in range(len(images[i])):\n",
    "        f.write(str(i))\n",
    "        f.write('\\n')\n",
    "f.close()"
   ]
  },
  {
   "cell_type": "code",
   "execution_count": null,
   "id": "a96b56b8",
   "metadata": {},
   "outputs": [],
   "source": []
  }
 ],
 "metadata": {
  "kernelspec": {
   "display_name": "Python 3.10 (tensorflow)",
   "language": "python",
   "name": "tensorflow"
  },
  "language_info": {
   "codemirror_mode": {
    "name": "ipython",
    "version": 3
   },
   "file_extension": ".py",
   "mimetype": "text/x-python",
   "name": "python",
   "nbconvert_exporter": "python",
   "pygments_lexer": "ipython3",
   "version": "3.10.8"
  }
 },
 "nbformat": 4,
 "nbformat_minor": 5
}
